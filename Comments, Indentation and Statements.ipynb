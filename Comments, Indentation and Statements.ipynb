{
 "cells": [
  {
   "cell_type": "markdown",
   "id": "9347cc50",
   "metadata": {},
   "source": [
    "# Python Comments\n",
    "Comments are lines that exist in computer programs that are ignored by compilers and interpreters.\n",
    "Including comments in programs makes code more readable for humans as it provides some information or explanation about what each part of a program is doing.\n",
    "\n",
    "In general, it is a good idea to write comments while you are writing or updating a program as it is easy to forget your thouught process later on and comments written later may be less useful in the long term."
   ]
  },
  {
   "cell_type": "markdown",
   "id": "a3c12f42",
   "metadata": {},
   "source": [
    "In Python, we use the hasg (#) symbol to start writing a comment."
   ]
  },
  {
   "cell_type": "code",
   "execution_count": 2,
   "id": "cbad28e6",
   "metadata": {},
   "outputs": [
    {
     "name": "stdout",
     "output_type": "stream",
     "text": [
      "Hello, World\n"
     ]
    }
   ],
   "source": [
    "#print Hello, world to console\n",
    "print(\"Hello, World\")"
   ]
  },
  {
   "cell_type": "markdown",
   "id": "915accad",
   "metadata": {},
   "source": [
    "# Multi Line Comments\n",
    "\n",
    "if we have comments that extend multiple lines, one way of doing it is use hash (#) in the beginning of each line."
   ]
  },
  {
   "cell_type": "code",
   "execution_count": null,
   "id": "989f9bf1",
   "metadata": {},
   "outputs": [],
   "source": [
    "#This is a long comment\n",
    "#and it extends\n",
    "#Multiple lines"
   ]
  },
  {
   "cell_type": "markdown",
   "id": "04075889",
   "metadata": {},
   "source": [
    "Another way of doing this is to use triple quotes, either ''' or \"\"\""
   ]
  },
  {
   "cell_type": "code",
   "execution_count": 4,
   "id": "ce3bfe64",
   "metadata": {},
   "outputs": [
    {
     "data": {
      "text/plain": [
       "'This is also a\\nperfect example of multi-line comments '"
      ]
     },
     "execution_count": 4,
     "metadata": {},
     "output_type": "execute_result"
    }
   ],
   "source": [
    "\"\"\"This is also a\n",
    "perfect example of multi-line comments \"\"\""
   ]
  },
  {
   "cell_type": "markdown",
   "id": "4014a6c7",
   "metadata": {},
   "source": [
    "# Python Indentation"
   ]
  },
  {
   "cell_type": "markdown",
   "id": "56d882a7",
   "metadata": {},
   "source": [
    "1. Most of the programming languages line c, C++,Java use braces{} to define a block of code.\n",
    "Python uses indentation\n",
    "2. A code block(body of a function, loop etc.) starts with indentation and ends with the first unidented line. The amount of indentation is up to you, but it must be consistent throughout that block.\n",
    "3. Generally four whitespaces are used for indentation and is perferred over tabs."
   ]
  },
  {
   "cell_type": "code",
   "execution_count": 5,
   "id": "149d1d37",
   "metadata": {},
   "outputs": [
    {
     "name": "stdout",
     "output_type": "stream",
     "text": [
      "0\n",
      "1\n",
      "2\n",
      "3\n",
      "4\n",
      "5\n",
      "6\n",
      "7\n",
      "8\n",
      "9\n"
     ]
    }
   ],
   "source": [
    "for i in range(10):  #we will look at for loop in detail later. Good habit to use \n",
    "    print(i)"
   ]
  },
  {
   "cell_type": "markdown",
   "id": "c88701d9",
   "metadata": {},
   "source": [
    "Indentation can be ignored in line continuation. But it's a good idea to always indent. it makes the code more readable."
   ]
  },
  {
   "cell_type": "code",
   "execution_count": 6,
   "id": "e6e4b51c",
   "metadata": {},
   "outputs": [
    {
     "name": "stdout",
     "output_type": "stream",
     "text": [
      "Machine Learning\n"
     ]
    }
   ],
   "source": [
    "if True:\n",
    "    print(\"Machine Learning\")\n",
    "    c = \"AAIC\""
   ]
  },
  {
   "cell_type": "code",
   "execution_count": 7,
   "id": "61f4c068",
   "metadata": {},
   "outputs": [
    {
     "name": "stdout",
     "output_type": "stream",
     "text": [
      "Machine Learning\n"
     ]
    }
   ],
   "source": [
    "if True: print(\"Machine Learning\"); c = \"AAIC\""
   ]
  },
  {
   "cell_type": "markdown",
   "id": "56fa98db",
   "metadata": {},
   "source": [
    "# Python Statement"
   ]
  },
  {
   "cell_type": "markdown",
   "id": "d0864df2",
   "metadata": {},
   "source": [
    "Instructions that a Python interpreter can execute are called statements."
   ]
  },
  {
   "cell_type": "markdown",
   "id": "67ed2ccd",
   "metadata": {},
   "source": [
    "# Examples:\n",
    "\n",
    "a = 1   #single statement"
   ]
  },
  {
   "cell_type": "markdown",
   "id": "c9647398",
   "metadata": {},
   "source": [
    "# Multi-Line Statement\n",
    "\n",
    "In Python, end of a statement is marked by a newline character. But we can make a statement extend over multiple lines with the line continuation character ()."
   ]
  },
  {
   "cell_type": "code",
   "execution_count": 11,
   "id": "b1a5fb1b",
   "metadata": {},
   "outputs": [],
   "source": [
    "a = 1 + 2 + 3 + \\\n",
    "    4 + 5 + 6 + \\\n",
    "    7 + 8"
   ]
  },
  {
   "cell_type": "code",
   "execution_count": 12,
   "id": "898960bf",
   "metadata": {},
   "outputs": [
    {
     "name": "stdout",
     "output_type": "stream",
     "text": [
      "36\n"
     ]
    }
   ],
   "source": [
    "print(a)"
   ]
  },
  {
   "cell_type": "code",
   "execution_count": 13,
   "id": "3bc5b90a",
   "metadata": {},
   "outputs": [
    {
     "name": "stdout",
     "output_type": "stream",
     "text": [
      "36\n"
     ]
    }
   ],
   "source": [
    "#Another way is to use paranthesis\n",
    "a = (1 + 2 + 3 +\n",
    "    4 + 5 + 6 +\n",
    "    7 + 8)\n",
    "print(a)"
   ]
  },
  {
   "cell_type": "code",
   "execution_count": null,
   "id": "99f9c1df",
   "metadata": {},
   "outputs": [],
   "source": [
    "a = 10; b = 20; c = 30   #"
   ]
  }
 ],
 "metadata": {
  "kernelspec": {
   "display_name": "Python 3 (ipykernel)",
   "language": "python",
   "name": "python3"
  },
  "language_info": {
   "codemirror_mode": {
    "name": "ipython",
    "version": 3
   },
   "file_extension": ".py",
   "mimetype": "text/x-python",
   "name": "python",
   "nbconvert_exporter": "python",
   "pygments_lexer": "ipython3",
   "version": "3.8.12"
  }
 },
 "nbformat": 4,
 "nbformat_minor": 5
}
