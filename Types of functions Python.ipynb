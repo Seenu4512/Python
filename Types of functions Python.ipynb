{
 "cells": [
  {
   "cell_type": "markdown",
   "id": "f7350886",
   "metadata": {},
   "source": [
    "# Types Of Functions\n",
    "\n",
    "1. Built-in Functions\n",
    "2. User-Defined Functions"
   ]
  },
  {
   "cell_type": "markdown",
   "id": "1bdb5cb8",
   "metadata": {},
   "source": [
    "# Built-in Functions"
   ]
  },
  {
   "cell_type": "markdown",
   "id": "1180a470",
   "metadata": {},
   "source": [
    "## 1.abs()"
   ]
  },
  {
   "cell_type": "code",
   "execution_count": 1,
   "id": "ef971455",
   "metadata": {},
   "outputs": [
    {
     "name": "stdout",
     "output_type": "stream",
     "text": [
      "100\n"
     ]
    }
   ],
   "source": [
    "#find the absolute value\n",
    "\n",
    "num = -100\n",
    "\n",
    "print(abs(num))"
   ]
  },
  {
   "cell_type": "markdown",
   "id": "5fb34431",
   "metadata": {},
   "source": [
    "# 2.all()"
   ]
  },
  {
   "cell_type": "markdown",
   "id": "32f073cb",
   "metadata": {},
   "source": [
    "#return value of all () function\n",
    "\n",
    "True: if all elements in an iterable are true\n",
    "    \n",
    "False: if any element in an iterable is false"
   ]
  },
  {
   "cell_type": "code",
   "execution_count": 2,
   "id": "3e07e969",
   "metadata": {},
   "outputs": [
    {
     "name": "stdout",
     "output_type": "stream",
     "text": [
      "True\n"
     ]
    }
   ],
   "source": [
    "lst = [1,2,3,4]\n",
    "\n",
    "print(all(lst))"
   ]
  },
  {
   "cell_type": "code",
   "execution_count": 3,
   "id": "40a8054b",
   "metadata": {},
   "outputs": [
    {
     "name": "stdout",
     "output_type": "stream",
     "text": [
      "False\n"
     ]
    }
   ],
   "source": [
    "lst = (0,1,2,3,4) #0 present in list\n",
    "\n",
    "print(all(lst))"
   ]
  },
  {
   "cell_type": "code",
   "execution_count": 5,
   "id": "e0383eb2",
   "metadata": {},
   "outputs": [
    {
     "name": "stdout",
     "output_type": "stream",
     "text": [
      "True\n"
     ]
    }
   ],
   "source": [
    "lst= []   #empty list always true\n",
    "\n",
    "print(all(lst))"
   ]
  },
  {
   "cell_type": "code",
   "execution_count": 6,
   "id": "8662354c",
   "metadata": {},
   "outputs": [
    {
     "name": "stdout",
     "output_type": "stream",
     "text": [
      "False\n"
     ]
    }
   ],
   "source": [
    "lst = [False, 1,2] #False present in a list so all (lst) is False\n",
    "\n",
    "print(all(lst))"
   ]
  },
  {
   "cell_type": "markdown",
   "id": "c9c489be",
   "metadata": {},
   "source": [
    "# dir ()"
   ]
  },
  {
   "cell_type": "markdown",
   "id": "203c9286",
   "metadata": {},
   "source": [
    "The dir() tries to return a list of vaild attributes of the object.\n",
    "\n",
    "if the object has dir() method, the method will be called and must return the list of attributes.\n",
    "\n",
    "if the object doesn't have dir() method, this method tries to find information from the dict attribute (if defined), and from type object. In this case, the list returned from dir() may not be complete."
   ]
  },
  {
   "cell_type": "code",
   "execution_count": 7,
   "id": "e9c70a84",
   "metadata": {},
   "outputs": [
    {
     "name": "stdout",
     "output_type": "stream",
     "text": [
      "['__add__', '__class__', '__contains__', '__delattr__', '__delitem__', '__dir__', '__doc__', '__eq__', '__format__', '__ge__', '__getattribute__', '__getitem__', '__gt__', '__hash__', '__iadd__', '__imul__', '__init__', '__init_subclass__', '__iter__', '__le__', '__len__', '__lt__', '__mul__', '__ne__', '__new__', '__reduce__', '__reduce_ex__', '__repr__', '__reversed__', '__rmul__', '__setattr__', '__setitem__', '__sizeof__', '__str__', '__subclasshook__', 'append', 'clear', 'copy', 'count', 'extend', 'index', 'insert', 'pop', 'remove', 'reverse', 'sort']\n"
     ]
    }
   ],
   "source": [
    "numbers = [1,2,3]\n",
    "\n",
    "print(dir(numbers))"
   ]
  },
  {
   "cell_type": "markdown",
   "id": "229ccaa5",
   "metadata": {},
   "source": [
    "# divmod()"
   ]
  },
  {
   "cell_type": "markdown",
   "id": "68f75a64",
   "metadata": {},
   "source": [
    "The divmod() method takes two numbers and returns a pair of numbers (a tuple) consisting of their quotient and remainder."
   ]
  },
  {
   "cell_type": "code",
   "execution_count": 8,
   "id": "045ad76b",
   "metadata": {},
   "outputs": [
    {
     "name": "stdout",
     "output_type": "stream",
     "text": [
      "(4, 1)\n"
     ]
    }
   ],
   "source": [
    "print(divmod(9,2)) #print quotient and remainder as a tuple\n",
    "\n",
    "#try with other number"
   ]
  },
  {
   "cell_type": "markdown",
   "id": "b6234062",
   "metadata": {},
   "source": [
    "# enumerate()"
   ]
  },
  {
   "cell_type": "markdown",
   "id": "411967b2",
   "metadata": {},
   "source": [
    "The enumerate() method adds counter to an iterable and returns it\n",
    "\n",
    "\n",
    "Syntax: enumerate(iterable, start=0)"
   ]
  },
  {
   "cell_type": "code",
   "execution_count": 10,
   "id": "56288af9",
   "metadata": {},
   "outputs": [
    {
     "name": "stdout",
     "output_type": "stream",
     "text": [
      "index 1 has value 10\n",
      "index 2 has value 20\n",
      "index 3 has value 30\n",
      "index 4 has value 40\n"
     ]
    }
   ],
   "source": [
    "numbers = [10,20,30,40]\n",
    "\n",
    "for index, num in enumerate(numbers,1):\n",
    "    print(\"index {0} has value {1}\".format(index, num))"
   ]
  },
  {
   "cell_type": "markdown",
   "id": "225ac296",
   "metadata": {},
   "source": [
    "# filter()"
   ]
  },
  {
   "cell_type": "markdown",
   "id": "20a5f69b",
   "metadata": {},
   "source": [
    "The filter() method constructs an iterator from elements of an iterable for which a function returns true.\n",
    "\n",
    "\n",
    "\n",
    "syntax: filter(function, iterable)"
   ]
  },
  {
   "cell_type": "code",
   "execution_count": 12,
   "id": "58671c96",
   "metadata": {},
   "outputs": [],
   "source": [
    "def find__positive__number(num):\n",
    "    \"\"\"\n",
    "    This function returns the positive number if num is positive\n",
    "    \"\"\"\n",
    "    if num > 0:\n",
    "        return num"
   ]
  },
  {
   "cell_type": "code",
   "execution_count": 13,
   "id": "d0876b66",
   "metadata": {},
   "outputs": [
    {
     "name": "stdout",
     "output_type": "stream",
     "text": [
      "[-10, -9, -8, -7, -6, -5, -4, -3, -2, -1, 0, 1, 2, 3, 4, 5, 6, 7, 8, 9]\n",
      "[1, 2, 3, 4, 5, 6, 7, 8, 9]\n"
     ]
    }
   ],
   "source": [
    "number_list = range(-10,10) #create a list with numbers from -10 to 10\n",
    "print(list(number_list))\n",
    "\n",
    "positive_num_lst = list(filter(find_positive_number, number_list))\n",
    "\n",
    "print(positive_num_lst)"
   ]
  },
  {
   "cell_type": "markdown",
   "id": "9070208e",
   "metadata": {},
   "source": [
    "# isinstance()"
   ]
  },
  {
   "cell_type": "markdown",
   "id": "e71ff802",
   "metadata": {},
   "source": [
    "The isinstance() function checks if the object (first argument) is an instance or subclass of classinfo class (second argument).\n",
    "\n",
    "\n",
    "syntax: isinstance(object, classinfo)"
   ]
  },
  {
   "cell_type": "code",
   "execution_count": 14,
   "id": "1a94e521",
   "metadata": {},
   "outputs": [
    {
     "name": "stdout",
     "output_type": "stream",
     "text": [
      "True\n",
      "False\n"
     ]
    }
   ],
   "source": [
    "lst = [1,2,3,4]\n",
    "print(isinstance(lst, list))\n",
    "\n",
    "#try with other datatypes tuple, set\n",
    "t = (1,2,3,4)\n",
    "\n",
    "print(isinstance(t,list))"
   ]
  },
  {
   "cell_type": "markdown",
   "id": "994a016f",
   "metadata": {},
   "source": [
    "# map()"
   ]
  },
  {
   "cell_type": "markdown",
   "id": "ac46db0c",
   "metadata": {},
   "source": [
    "Map applies a function to all the items in an input_list.\n",
    "\n",
    "syntax: map(function_to_apply, list_of_inputs)"
   ]
  },
  {
   "cell_type": "code",
   "execution_count": 15,
   "id": "0a02448d",
   "metadata": {},
   "outputs": [
    {
     "name": "stdout",
     "output_type": "stream",
     "text": [
      "[1, 4, 9, 16]\n"
     ]
    }
   ],
   "source": [
    "numbers = [1,2,3,4]\n",
    "\n",
    "#normal method of computing num^2 for each element in the list.\n",
    "squared = []\n",
    "for num in numbers:\n",
    "    squared.append(num ** 2)\n",
    "    \n",
    "print(squared)"
   ]
  },
  {
   "cell_type": "code",
   "execution_count": 16,
   "id": "7e6cbdc0",
   "metadata": {},
   "outputs": [
    {
     "name": "stdout",
     "output_type": "stream",
     "text": [
      "[1, 4, 9, 16]\n"
     ]
    }
   ],
   "source": [
    "numbers = [1,2,3,4]\n",
    "\n",
    "def powerOfTwo(num):\n",
    "    return num ** 2 \n",
    "\n",
    "#using map() function\n",
    "squared = list(map(powerOfTwo,numbers))\n",
    "print(squared)"
   ]
  },
  {
   "cell_type": "markdown",
   "id": "e3e11472",
   "metadata": {},
   "source": [
    "# reduce()"
   ]
  },
  {
   "cell_type": "markdown",
   "id": "b2f481ce",
   "metadata": {},
   "source": [
    "reduce() function is for programming some computation on a list and returning the result.\n",
    "\n",
    "It applies a rolling computation to sequential pairs of values in a list."
   ]
  },
  {
   "cell_type": "code",
   "execution_count": 17,
   "id": "00c0c52f",
   "metadata": {},
   "outputs": [
    {
     "name": "stdout",
     "output_type": "stream",
     "text": [
      "24\n"
     ]
    }
   ],
   "source": [
    "#product of elements in a list\n",
    "\n",
    "product = 1\n",
    "lst = [1,2,3,4]\n",
    "\n",
    "#traditional program without reduce()\n",
    "for num in lst:\n",
    "    product *= num\n",
    "print(product)"
   ]
  },
  {
   "cell_type": "code",
   "execution_count": 18,
   "id": "23f98641",
   "metadata": {},
   "outputs": [
    {
     "name": "stdout",
     "output_type": "stream",
     "text": [
      "24\n"
     ]
    }
   ],
   "source": [
    "#with reduce()\n",
    "from functools import reduce #in python 3.\n",
    "\n",
    "def multiply(x,y):\n",
    "    return x*y;\n",
    "\n",
    "product = reduce(multiply, lst)\n",
    "print(product)"
   ]
  },
  {
   "cell_type": "markdown",
   "id": "c15a36ba",
   "metadata": {},
   "source": [
    "# User-defined Functions"
   ]
  },
  {
   "cell_type": "markdown",
   "id": "611f19c9",
   "metadata": {},
   "source": [
    "Functions that we define outselves to do certain specific task are referred as user-defined functions\n",
    "\n",
    "If we use functions written by others in the form of library, it can be termed as library functions."
   ]
  },
  {
   "cell_type": "markdown",
   "id": "abe97b25",
   "metadata": {},
   "source": [
    "# Advantages"
   ]
  },
  {
   "cell_type": "markdown",
   "id": "b7000c23",
   "metadata": {},
   "source": [
    "1. User-defined functions help to decompose a large program into small segments which makes program easy to understand, maintain and debug.\n",
    "2. If repeated code occurs in a program. Function can be used to include those codes and execute when needed by calling that function.\n",
    "3.Programmars working on large project can divide the workload by making different functions."
   ]
  },
  {
   "cell_type": "markdown",
   "id": "be9f0352",
   "metadata": {},
   "source": [
    "# Example: "
   ]
  },
  {
   "cell_type": "code",
   "execution_count": 20,
   "id": "c85fb7ee",
   "metadata": {},
   "outputs": [
    {
     "name": "stdout",
     "output_type": "stream",
     "text": [
      "product of 10 and 20 is 200\n"
     ]
    }
   ],
   "source": [
    "def product_numbers(a,b):\n",
    "    \"\"\"\n",
    "    this function returns the product of two numbers\n",
    "    \"\"\"\n",
    "    product = a * b\n",
    "    return product\n",
    "\n",
    "num1 = 10\n",
    "num2 = 20\n",
    "\n",
    "print(\"product of {0} and {1} is {2}\".format(num1,num2, product_numbers(num1,num2)))"
   ]
  },
  {
   "cell_type": "markdown",
   "id": "b346ed3c",
   "metadata": {},
   "source": [
    "# Python program to make a simple calculator that can add, subtract, multiply and division"
   ]
  },
  {
   "cell_type": "code",
   "execution_count": 22,
   "id": "f4976044",
   "metadata": {},
   "outputs": [
    {
     "name": "stdout",
     "output_type": "stream",
     "text": [
      "select option\n",
      "1.addition\n",
      "2.Subtraction\n",
      "3.multiplication\n",
      "4.Division\n",
      "Enter choice 1/2/3/41\n",
      "Enter first number:255\n",
      "Enter second number:255\n",
      "Addition of 255 and 255 is 510\n"
     ]
    }
   ],
   "source": [
    "def add(a,b):\n",
    "    \"\"\"\n",
    "    This function adds two numbers\n",
    "    \"\"\"\n",
    "    return a + b\n",
    "def multiply(a,b):\n",
    "    \"\"\"\n",
    "    This function multiply two numbers\n",
    "    \"\"\"\n",
    "    return a * b\n",
    "\n",
    "def subtract(a,b):\n",
    "    \"\"\"\n",
    "    This function subtract two numbers\n",
    "    \"\"\"\n",
    "    return a - b\n",
    "\n",
    "def division(a,b):\n",
    "    \"\"\"\n",
    "    This function division two numbers\n",
    "    \"\"\"\n",
    "    return a / b\n",
    "\n",
    "print(\"select option\")\n",
    "print(\"1.addition\")\n",
    "print(\"2.Subtraction\")\n",
    "print(\"3.multiplication\")\n",
    "print(\"4.Division\")\n",
    "\n",
    "#take input from user\n",
    "choice = int(input(\"Enter choice 1/2/3/4\"))\n",
    "\n",
    "num1 = int(input(\"Enter first number:\"))\n",
    "num2 = int(input(\"Enter second number:\"))\n",
    "if choice == 1:\n",
    "    print(\"Addition of {0} and {1} is {2}\".format(num1, num2, add(num1,num2)))\n",
    "elif choice == 2:\n",
    "    print(\"subtraction of {0} and {1} is {2}\".format(num1,num2, subtract(num1,num2)))\n",
    "elif choice == 3:\n",
    "    print(\"multiplication of {0} and {1} is {2}\".format(num1,num2, multiply(num1,num2)))\n",
    "elif choice == 4:\n",
    "    print(\"Division of {0} and {1} is {2}\".format(num1,num2, Division(num1,num2)))\n",
    "else:\n",
    "    print(\"Invaild Choice\")"
   ]
  }
 ],
 "metadata": {
  "kernelspec": {
   "display_name": "Python 3 (ipykernel)",
   "language": "python",
   "name": "python3"
  },
  "language_info": {
   "codemirror_mode": {
    "name": "ipython",
    "version": 3
   },
   "file_extension": ".py",
   "mimetype": "text/x-python",
   "name": "python",
   "nbconvert_exporter": "python",
   "pygments_lexer": "ipython3",
   "version": "3.8.12"
  }
 },
 "nbformat": 4,
 "nbformat_minor": 5
}
