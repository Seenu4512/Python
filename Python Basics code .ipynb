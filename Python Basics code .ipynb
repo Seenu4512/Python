{
 "cells": [
  {
   "cell_type": "code",
   "execution_count": 1,
   "id": "022e6c31",
   "metadata": {},
   "outputs": [
    {
     "name": "stdout",
     "output_type": "stream",
     "text": [
      "1\n",
      "2\n",
      "3\n",
      "4\n",
      "no 10 rs notes are available\n"
     ]
    }
   ],
   "source": [
    "notes = 5\n",
    "i = 1\n",
    "while i < notes:\n",
    "    print(i)\n",
    "    i += 1\n",
    "else:\n",
    "    print(\"no 10 rs notes are available\")"
   ]
  },
  {
   "cell_type": "code",
   "execution_count": 8,
   "id": "af4f8c43",
   "metadata": {},
   "outputs": [
    {
     "name": "stdout",
     "output_type": "stream",
     "text": [
      "<class 'str'>\n"
     ]
    }
   ],
   "source": [
    "name = \"srinivas\"\n",
    "\n",
    "print(type(name))"
   ]
  },
  {
   "cell_type": "code",
   "execution_count": 1,
   "id": "5164045e",
   "metadata": {},
   "outputs": [
    {
     "name": "stdout",
     "output_type": "stream",
     "text": [
      "2345\n"
     ]
    }
   ],
   "source": [
    "cash_money = 2345\n",
    "\n",
    "print(cash_money)"
   ]
  },
  {
   "cell_type": "code",
   "execution_count": 2,
   "id": "d0cf4cea",
   "metadata": {},
   "outputs": [
    {
     "name": "stdout",
     "output_type": "stream",
     "text": [
      "234512\n"
     ]
    }
   ],
   "source": [
    "_cash = 234512\n",
    "print(_cash)"
   ]
  },
  {
   "cell_type": "code",
   "execution_count": 8,
   "id": "2fa4a0bb",
   "metadata": {},
   "outputs": [],
   "source": [
    "for i in range (1,100):\n",
    "    print(i)"
   ]
  },
  {
   "cell_type": "code",
   "execution_count": 9,
   "id": "a9e202b8",
   "metadata": {},
   "outputs": [
    {
     "name": "stdout",
     "output_type": "stream",
     "text": [
      "b\n",
      "a\n",
      "n\n",
      "a\n",
      "n\n",
      "a\n"
     ]
    }
   ],
   "source": [
    "for x in \"banana\":\n",
    "    print(x)"
   ]
  },
  {
   "cell_type": "code",
   "execution_count": 10,
   "id": "0184b5fc",
   "metadata": {},
   "outputs": [
    {
     "name": "stdout",
     "output_type": "stream",
     "text": [
      "Hello Python 101\n"
     ]
    }
   ],
   "source": [
    "print(\"Hello Python 101\")"
   ]
  },
  {
   "cell_type": "code",
   "execution_count": 11,
   "id": "a4672e91",
   "metadata": {},
   "outputs": [
    {
     "name": "stdout",
     "output_type": "stream",
     "text": [
      "hello\n",
      "world!\n"
     ]
    }
   ],
   "source": [
    "print(\"hello\\nworld!\")"
   ]
  },
  {
   "cell_type": "code",
   "execution_count": 12,
   "id": "de0ba9be",
   "metadata": {},
   "outputs": [
    {
     "name": "stdout",
     "output_type": "stream",
     "text": [
      "hello world\n"
     ]
    }
   ],
   "source": [
    "print(\"hello world\")"
   ]
  },
  {
   "cell_type": "code",
   "execution_count": 13,
   "id": "4805d4c7",
   "metadata": {},
   "outputs": [],
   "source": [
    "#print('hello world!')"
   ]
  },
  {
   "cell_type": "code",
   "execution_count": 14,
   "id": "54bfafd0",
   "metadata": {},
   "outputs": [
    {
     "data": {
      "text/plain": [
       "1"
      ]
     },
     "execution_count": 14,
     "metadata": {},
     "output_type": "execute_result"
    }
   ],
   "source": [
    "int(1.0)"
   ]
  },
  {
   "cell_type": "code",
   "execution_count": 15,
   "id": "a2909468",
   "metadata": {},
   "outputs": [
    {
     "data": {
      "text/plain": [
       "'0246'"
      ]
     },
     "execution_count": 15,
     "metadata": {},
     "output_type": "execute_result"
    }
   ],
   "source": [
    "numbers = \"0123456\"\n",
    "numbers[::2]"
   ]
  },
  {
   "cell_type": "code",
   "execution_count": 16,
   "id": "6bfc5a7a",
   "metadata": {},
   "outputs": [
    {
     "data": {
      "text/plain": [
       "1"
      ]
     },
     "execution_count": 16,
     "metadata": {},
     "output_type": "execute_result"
    }
   ],
   "source": [
    "\"0123456\".find('1')"
   ]
  },
  {
   "cell_type": "code",
   "execution_count": 17,
   "id": "2636c51c",
   "metadata": {},
   "outputs": [
    {
     "data": {
      "text/plain": [
       "7"
      ]
     },
     "execution_count": 17,
     "metadata": {},
     "output_type": "execute_result"
    }
   ],
   "source": [
    "3+2*2"
   ]
  },
  {
   "cell_type": "code",
   "execution_count": 18,
   "id": "39971da7",
   "metadata": {},
   "outputs": [
    {
     "name": "stdout",
     "output_type": "stream",
     "text": [
      "Li\n"
     ]
    }
   ],
   "source": [
    "name = 'Lizz'\n",
    "print(name[0:2])"
   ]
  },
  {
   "cell_type": "code",
   "execution_count": 19,
   "id": "1ee7e9cc",
   "metadata": {},
   "outputs": [
    {
     "name": "stdout",
     "output_type": "stream",
     "text": [
      "0246\n"
     ]
    }
   ],
   "source": [
    "var = '01234567'\n",
    "print(var[::2])"
   ]
  },
  {
   "cell_type": "code",
   "execution_count": 20,
   "id": "5c9ad5a5",
   "metadata": {},
   "outputs": [
    {
     "data": {
      "text/plain": [
       "'12'"
      ]
     },
     "execution_count": 20,
     "metadata": {},
     "output_type": "execute_result"
    }
   ],
   "source": [
    "'1'+'2'"
   ]
  },
  {
   "cell_type": "code",
   "execution_count": 21,
   "id": "8bbcc72b",
   "metadata": {},
   "outputs": [
    {
     "data": {
      "text/plain": [
       "'HELLO'"
      ]
     },
     "execution_count": 21,
     "metadata": {},
     "output_type": "execute_result"
    }
   ],
   "source": [
    "myvar='hello'\n",
    "myvar.upper()"
   ]
  },
  {
   "cell_type": "code",
   "execution_count": 25,
   "id": "a21dc203",
   "metadata": {},
   "outputs": [
    {
     "data": {
      "text/plain": [
       "['b', 'c']"
      ]
     },
     "execution_count": 25,
     "metadata": {},
     "output_type": "execute_result"
    }
   ],
   "source": [
    "B = [\"a\",\"b\",\"c\"]\n",
    "\n",
    "B[1:]"
   ]
  },
  {
   "cell_type": "code",
   "execution_count": 26,
   "id": "b0969b4d",
   "metadata": {},
   "outputs": [
    {
     "data": {
      "text/plain": [
       "{'A', 'B', 'C'}"
      ]
     },
     "execution_count": 26,
     "metadata": {},
     "output_type": "execute_result"
    }
   ],
   "source": [
    "S = {'A','B','C'}\n",
    "U = {'A','B','C'}\n",
    "\n",
    "U.union(S)"
   ]
  },
  {
   "cell_type": "code",
   "execution_count": 27,
   "id": "82a7859f",
   "metadata": {},
   "outputs": [
    {
     "name": "stdout",
     "output_type": "stream",
     "text": [
      "Enter Age:4\n",
      "Ticket Price: 0\n"
     ]
    }
   ],
   "source": [
    "P1 = 0\n",
    "P2 = 150\n",
    "P3 = 250\n",
    "n = int(input(\"Enter Age:\"))\n",
    "if n>=0 and n<=5:\n",
    "    print(\"Ticket Price:\",P1)"
   ]
  },
  {
   "cell_type": "code",
   "execution_count": 31,
   "id": "de709241",
   "metadata": {},
   "outputs": [
    {
     "data": {
      "text/plain": [
       "15.0"
      ]
     },
     "execution_count": 31,
     "metadata": {},
     "output_type": "execute_result"
    }
   ],
   "source": [
    "a =10\n",
    "b = 20\n",
    "(a+b)/2"
   ]
  },
  {
   "cell_type": "code",
   "execution_count": 33,
   "id": "7dd75f87",
   "metadata": {},
   "outputs": [
    {
     "name": "stdout",
     "output_type": "stream",
     "text": [
      "10\n"
     ]
    }
   ],
   "source": [
    "a = 10\n",
    "print(a)"
   ]
  },
  {
   "cell_type": "code",
   "execution_count": 39,
   "id": "0b841f97",
   "metadata": {},
   "outputs": [
    {
     "name": "stdout",
     "output_type": "stream",
     "text": [
      "10 20 30\n",
      "30\n"
     ]
    }
   ],
   "source": [
    "a,b,c = 10,20,30\n",
    "print(a,b,c)\n",
    "print(c)"
   ]
  },
  {
   "cell_type": "code",
   "execution_count": 43,
   "id": "e520a8b3",
   "metadata": {},
   "outputs": [
    {
     "name": "stdout",
     "output_type": "stream",
     "text": [
      "10\n",
      "10\n",
      "10\n"
     ]
    }
   ],
   "source": [
    "a=b=c=10\n",
    "print(a)\n",
    "print(b)\n",
    "print(c)"
   ]
  },
  {
   "cell_type": "code",
   "execution_count": 49,
   "id": "637eef1d",
   "metadata": {},
   "outputs": [
    {
     "name": "stdout",
     "output_type": "stream",
     "text": [
      "140736016097312\n",
      "140736016097952\n",
      "140736016097312\n"
     ]
    }
   ],
   "source": [
    "a = 10\n",
    "b = 30\n",
    "c = 10\n",
    "print(id(a))\n",
    "print(id(b))\n",
    "print(id(c))"
   ]
  },
  {
   "cell_type": "code",
   "execution_count": 53,
   "id": "16c60ce8",
   "metadata": {},
   "outputs": [
    {
     "name": "stdout",
     "output_type": "stream",
     "text": [
      "<class 'int'>\n",
      "<class 'float'>\n",
      "<class 'complex'>\n"
     ]
    }
   ],
   "source": [
    "x = 10\n",
    "print(type(x))\n",
    "\n",
    "y = 20.5\n",
    "print(type(y))\n",
    "\n",
    "z = 20+2j\n",
    "print(type(z))"
   ]
  },
  {
   "cell_type": "code",
   "execution_count": 63,
   "id": "cc01014a",
   "metadata": {},
   "outputs": [
    {
     "name": "stdout",
     "output_type": "stream",
     "text": [
      "srinivas\n",
      "<class 'str'>\n",
      "srinivas1\n"
     ]
    }
   ],
   "source": [
    "name = \"srinivas\"\n",
    "print(name)\n",
    "print(type(name))\n",
    "name1 = 'srinivas1'\n",
    "print(name1)"
   ]
  },
  {
   "cell_type": "code",
   "execution_count": 79,
   "id": "c918b3a9",
   "metadata": {},
   "outputs": [
    {
     "name": "stdout",
     "output_type": "stream",
     "text": [
      "[9, 5, 3, 2, 3, 4, 5, 6, 7, 8] ['sriram', 'siva', 'lalitha', 'bharath']\n",
      "4\n",
      "['siva', 'lalitha', 'bharath']\n"
     ]
    }
   ],
   "source": [
    "name = ['sriram','siva','lalitha','bharath']\n",
    "age = [9,5,3,2,3,4,5,6,7,8]\n",
    "\n",
    "print(age,name)\n",
    "print(len(name))\n",
    "print(name[1:4])"
   ]
  },
  {
   "cell_type": "code",
   "execution_count": 83,
   "id": "415d2885",
   "metadata": {},
   "outputs": [
    {
     "name": "stdout",
     "output_type": "stream",
     "text": [
      "<class 'dict'>\n",
      "dict_keys(['sriram', 'siva', 'lalitha'])\n",
      "dict_values([9, 5, 5])\n"
     ]
    }
   ],
   "source": [
    "dt = {'sriram':9,'siva':5,'lalitha':5}\n",
    "print(type(dt))\n",
    "print(dt.keys())\n",
    "print(dt.values())"
   ]
  },
  {
   "cell_type": "code",
   "execution_count": 91,
   "id": "3d852fc0",
   "metadata": {},
   "outputs": [
    {
     "name": "stdout",
     "output_type": "stream",
     "text": [
      "<class 'set'>\n",
      "4\n"
     ]
    }
   ],
   "source": [
    "month = {'jan','feb','march','apr'}\n",
    "print(type(month))\n",
    "print(len(month))"
   ]
  },
  {
   "cell_type": "code",
   "execution_count": 92,
   "id": "ba777acf",
   "metadata": {},
   "outputs": [
    {
     "name": "stdout",
     "output_type": "stream",
     "text": [
      "2\n",
      "4\n",
      "6\n",
      "8\n",
      "10\n",
      "12\n",
      "14\n",
      "16\n",
      "18\n",
      "20\n"
     ]
    }
   ],
   "source": [
    "for i in range(2,21,2):\n",
    "    print(i)"
   ]
  },
  {
   "cell_type": "code",
   "execution_count": 98,
   "id": "cb04e058",
   "metadata": {},
   "outputs": [
    {
     "name": "stdout",
     "output_type": "stream",
     "text": [
      "enter your rollnumber12345\n"
     ]
    }
   ],
   "source": [
    "rollnumber = input(\"enter your rollnumber\" )"
   ]
  },
  {
   "cell_type": "code",
   "execution_count": 100,
   "id": "241f18e8",
   "metadata": {},
   "outputs": [
    {
     "name": "stdout",
     "output_type": "stream",
     "text": [
      "srinivas\n",
      "12345\n"
     ]
    }
   ],
   "source": [
    "print(\"srinivas\")\n",
    "\n",
    "print(rollnumber)"
   ]
  },
  {
   "cell_type": "code",
   "execution_count": 103,
   "id": "f48d4307",
   "metadata": {},
   "outputs": [
    {
     "name": "stdout",
     "output_type": "stream",
     "text": [
      "enter x value40\n",
      "enter y value50\n",
      "90\n"
     ]
    }
   ],
   "source": [
    "print((int(input(\"enter x value\")) + int(input(\"enter y value\"))))"
   ]
  },
  {
   "cell_type": "code",
   "execution_count": 106,
   "id": "5b8b3a8f",
   "metadata": {},
   "outputs": [
    {
     "data": {
      "text/plain": [
       "False"
      ]
     },
     "execution_count": 106,
     "metadata": {},
     "output_type": "execute_result"
    }
   ],
   "source": [
    "a = 10\n",
    "b = 10\n",
    "\n",
    "a is not b"
   ]
  },
  {
   "cell_type": "code",
   "execution_count": 115,
   "id": "abc16a27",
   "metadata": {},
   "outputs": [
    {
     "name": "stdout",
     "output_type": "stream",
     "text": [
      "10\n"
     ]
    }
   ],
   "source": [
    "a = 10\n",
    "\n",
    "\n",
    "if a <15:\n",
    "    print(a)"
   ]
  },
  {
   "cell_type": "code",
   "execution_count": 117,
   "id": "8f473225",
   "metadata": {},
   "outputs": [
    {
     "name": "stdout",
     "output_type": "stream",
     "text": [
      " print if statement false\n"
     ]
    }
   ],
   "source": [
    "if 24 < 15:\n",
    "    print(\" print if statement is true\")\n",
    "else: \n",
    "    print(\" print if statement false\")"
   ]
  },
  {
   "cell_type": "code",
   "execution_count": 124,
   "id": "0d8b025f",
   "metadata": {},
   "outputs": [
    {
     "name": "stdout",
     "output_type": "stream",
     "text": [
      "30\n",
      "10\n"
     ]
    }
   ],
   "source": [
    "a = 10\n",
    "b = 20 \n",
    "print(a+b)\n",
    "print(a)"
   ]
  },
  {
   "cell_type": "code",
   "execution_count": 125,
   "id": "c1142b76",
   "metadata": {},
   "outputs": [
    {
     "name": "stdout",
     "output_type": "stream",
     "text": [
      "my name is sriram my age is 33 my height is 5.7\n"
     ]
    }
   ],
   "source": [
    "name = \"sriram\"\n",
    "age = 33\n",
    "height = 5.7\n",
    "\n",
    "print(\"my name is\",name,\"my age is\", age,\"my height is\",height)"
   ]
  },
  {
   "cell_type": "code",
   "execution_count": 128,
   "id": "fd88ef5f",
   "metadata": {},
   "outputs": [
    {
     "name": "stdout",
     "output_type": "stream",
     "text": [
      "iron man\n",
      "Captain America\n",
      "Bat Man\n"
     ]
    }
   ],
   "source": [
    "hero1,hero2,hero3 = \"iron man\",\"Captain America\",\"Bat Man\"\n",
    "print(hero1)\n",
    "print(hero2)\n",
    "print(hero3)"
   ]
  },
  {
   "cell_type": "code",
   "execution_count": 129,
   "id": "551f78af",
   "metadata": {},
   "outputs": [
    {
     "name": "stdout",
     "output_type": "stream",
     "text": [
      "23\n",
      "23\n",
      "23\n"
     ]
    }
   ],
   "source": [
    "x = y = z = 23\n",
    "print(x)\n",
    "print(y)\n",
    "print(z)"
   ]
  },
  {
   "cell_type": "code",
   "execution_count": null,
   "id": "b0f697c4",
   "metadata": {},
   "outputs": [],
   "source": [
    "# input function"
   ]
  },
  {
   "cell_type": "code",
   "execution_count": 135,
   "id": "9c2658a7",
   "metadata": {},
   "outputs": [
    {
     "name": "stdout",
     "output_type": "stream",
     "text": [
      "enter the first number :23\n",
      "enter the second number :23\n",
      "46\n"
     ]
    }
   ],
   "source": [
    "number_1 = int(input(\"enter the first number :\"))\n",
    "number_2 = int(input(\"enter the second number :\"))\n",
    "\n",
    "sum = number_1 + number_2\n",
    "\n",
    "print(sum)"
   ]
  },
  {
   "cell_type": "code",
   "execution_count": 138,
   "id": "50b02d33",
   "metadata": {},
   "outputs": [
    {
     "name": "stdout",
     "output_type": "stream",
     "text": [
      "program\n",
      "ming\n",
      "gram\n"
     ]
    }
   ],
   "source": [
    "my_string =\"programming\"  # Values from index 0 - 7 , 77-11 will be sliced\n",
    "\n",
    "print(my_string[0:7])\n",
    "print(my_string[7:11])\n",
    "print(my_string[3:7])"
   ]
  },
  {
   "cell_type": "code",
   "execution_count": 139,
   "id": "87a17b07",
   "metadata": {},
   "outputs": [
    {
     "name": "stdout",
     "output_type": "stream",
     "text": [
      "pormi\n"
     ]
    }
   ],
   "source": [
    "print(my_string[0:10:2])"
   ]
  },
  {
   "cell_type": "code",
   "execution_count": 142,
   "id": "31726a0f",
   "metadata": {},
   "outputs": [
    {
     "name": "stdout",
     "output_type": "stream",
     "text": [
      "machine learning\n"
     ]
    }
   ],
   "source": [
    "#String Concatenation\n",
    "\n",
    "word_1 = \"machine \"\n",
    "word_2 = \"learning\"\n",
    "\n",
    "print(word_1+word_2)"
   ]
  },
  {
   "cell_type": "code",
   "execution_count": 143,
   "id": "ce1610d8",
   "metadata": {},
   "outputs": [
    {
     "name": "stdout",
     "output_type": "stream",
     "text": [
      "True\n"
     ]
    },
    {
     "data": {
      "text/plain": [
       "bool"
      ]
     },
     "execution_count": 143,
     "metadata": {},
     "output_type": "execute_result"
    }
   ],
   "source": [
    "a = 7 > 3\n",
    "print(a)\n",
    "type(a)"
   ]
  },
  {
   "cell_type": "code",
   "execution_count": 144,
   "id": "72f51b74",
   "metadata": {},
   "outputs": [
    {
     "name": "stdout",
     "output_type": "stream",
     "text": [
      "False\n"
     ]
    },
    {
     "data": {
      "text/plain": [
       "bool"
      ]
     },
     "execution_count": 144,
     "metadata": {},
     "output_type": "execute_result"
    }
   ],
   "source": [
    "a = 7 < 4\n",
    "print(a)\n",
    "type(a)"
   ]
  },
  {
   "cell_type": "code",
   "execution_count": 145,
   "id": "d6c4179b",
   "metadata": {},
   "outputs": [
    {
     "name": "stdout",
     "output_type": "stream",
     "text": [
      "True\n"
     ]
    },
    {
     "data": {
      "text/plain": [
       "bool"
      ]
     },
     "execution_count": 145,
     "metadata": {},
     "output_type": "execute_result"
    }
   ],
   "source": [
    "a = True\n",
    "print(a)\n",
    "type(a)"
   ]
  },
  {
   "cell_type": "code",
   "execution_count": 146,
   "id": "0974eb9c",
   "metadata": {},
   "outputs": [
    {
     "name": "stdout",
     "output_type": "stream",
     "text": [
      "False\n"
     ]
    },
    {
     "data": {
      "text/plain": [
       "bool"
      ]
     },
     "execution_count": 146,
     "metadata": {},
     "output_type": "execute_result"
    }
   ],
   "source": [
    "b = False\n",
    "print(b)\n",
    "type(b)"
   ]
  },
  {
   "cell_type": "code",
   "execution_count": 149,
   "id": "6cdddfd5",
   "metadata": {},
   "outputs": [
    {
     "name": "stdout",
     "output_type": "stream",
     "text": [
      "[1, 'string ', 2.45, 4, 3, True]\n"
     ]
    },
    {
     "data": {
      "text/plain": [
       "list"
      ]
     },
     "execution_count": 149,
     "metadata": {},
     "output_type": "execute_result"
    }
   ],
   "source": [
    "my_list = [1, \"string \", 2.45,4,3,True] #lists are mutable --> changeable\n",
    "\n",
    "print(my_list)\n",
    "type(my_list)"
   ]
  },
  {
   "cell_type": "code",
   "execution_count": 152,
   "id": "f9805b89",
   "metadata": {},
   "outputs": [
    {
     "data": {
      "text/plain": [
       "[1, 'string ', 2.45, 4, 3, True, 6, 6]"
      ]
     },
     "execution_count": 152,
     "metadata": {},
     "output_type": "execute_result"
    }
   ],
   "source": [
    "my_list.append(6)\n",
    "\n",
    "my_list"
   ]
  },
  {
   "cell_type": "code",
   "execution_count": 155,
   "id": "e3829c33",
   "metadata": {},
   "outputs": [
    {
     "name": "stdout",
     "output_type": "stream",
     "text": [
      "[1, 2, 3, 4, 1, 2, 3, 4]\n"
     ]
    },
    {
     "data": {
      "text/plain": [
       "8"
      ]
     },
     "execution_count": 155,
     "metadata": {},
     "output_type": "execute_result"
    }
   ],
   "source": [
    "list_1 = [1,2,3,4,1,2,3,4]\n",
    "print(list_1)\n",
    "len(list_1)"
   ]
  },
  {
   "cell_type": "code",
   "execution_count": 159,
   "id": "75e63192",
   "metadata": {},
   "outputs": [
    {
     "name": "stdout",
     "output_type": "stream",
     "text": [
      "[5]\n"
     ]
    }
   ],
   "source": [
    "list_2 = [] #Initiating an empty list\n",
    "list_2.append(5)\n",
    "print(list_2)"
   ]
  },
  {
   "cell_type": "code",
   "execution_count": 166,
   "id": "66247a10",
   "metadata": {},
   "outputs": [
    {
     "name": "stdout",
     "output_type": "stream",
     "text": [
      "[1, 'string ', 2.45, 4, 3, True]\n",
      "[1, 'string ', 4, 3, True]\n"
     ]
    }
   ],
   "source": [
    "list_2 = [1, \"string \", 2.45,4,3,True]\n",
    "print(list_2)\n",
    "\n",
    "del list_2[2]\n",
    "print(list_2)"
   ]
  },
  {
   "cell_type": "code",
   "execution_count": 168,
   "id": "9c60bf72",
   "metadata": {},
   "outputs": [
    {
     "name": "stdout",
     "output_type": "stream",
     "text": [
      "[1, 2, 3, 4, 5, 6, 7, 8, 9, 10]\n"
     ]
    }
   ],
   "source": [
    "#Join two lists\n",
    "\n",
    "list_3 = [1,2,3,4,5]\n",
    "list_4 = [6,7,8,9,10]\n",
    "\n",
    "list_5 = list_3 + list_4\n",
    "\n",
    "print(list_5)"
   ]
  },
  {
   "cell_type": "code",
   "execution_count": 169,
   "id": "38a99fb9",
   "metadata": {},
   "outputs": [
    {
     "name": "stdout",
     "output_type": "stream",
     "text": [
      "(1, 2, 3, 4, 5)\n"
     ]
    },
    {
     "data": {
      "text/plain": [
       "tuple"
      ]
     },
     "execution_count": 169,
     "metadata": {},
     "output_type": "execute_result"
    }
   ],
   "source": [
    "#Tuple is immutable --> can't unchangeable\n",
    "\n",
    "tuple_1 = (1,2,3,4,5)\n",
    "print(tuple_1)\n",
    "type(tuple_1)"
   ]
  },
  {
   "cell_type": "code",
   "execution_count": 170,
   "id": "b11e60e9",
   "metadata": {},
   "outputs": [
    {
     "name": "stdout",
     "output_type": "stream",
     "text": [
      "(1, 2, 3, 4, 5, 'machine learning', False)\n"
     ]
    }
   ],
   "source": [
    "#tuple allows mutiple datatypes\n",
    "\n",
    "tuple_2 = (1,2,3,4,5, \"machine learning\", False)\n",
    "\n",
    "print(tuple_2)"
   ]
  },
  {
   "cell_type": "code",
   "execution_count": 172,
   "id": "10757c4d",
   "metadata": {},
   "outputs": [
    {
     "name": "stdout",
     "output_type": "stream",
     "text": [
      "[3, 4, 5, 6]\n",
      "(3, 4, 5, 6)\n"
     ]
    }
   ],
   "source": [
    "#Converting a list to a tupel\n",
    "\n",
    "my_list = [3,4,5,6]\n",
    "print(my_list)\n",
    "\n",
    "my_tuple = tuple(my_list)\n",
    "print(my_tuple)"
   ]
  },
  {
   "cell_type": "code",
   "execution_count": 173,
   "id": "7f149ca1",
   "metadata": {},
   "outputs": [
    {
     "name": "stdout",
     "output_type": "stream",
     "text": [
      "3\n",
      "4\n"
     ]
    }
   ],
   "source": [
    "print(my_tuple[0])\n",
    "print(my_tuple[1])"
   ]
  },
  {
   "cell_type": "code",
   "execution_count": 174,
   "id": "7e4d7c13",
   "metadata": {},
   "outputs": [
    {
     "name": "stdout",
     "output_type": "stream",
     "text": [
      "4\n"
     ]
    }
   ],
   "source": [
    "print(len(my_tuple))"
   ]
  },
  {
   "cell_type": "code",
   "execution_count": 175,
   "id": "539bf142",
   "metadata": {},
   "outputs": [
    {
     "name": "stdout",
     "output_type": "stream",
     "text": [
      "{1, 2, 3, 4, 5}\n"
     ]
    },
    {
     "data": {
      "text/plain": [
       "set"
      ]
     },
     "execution_count": 175,
     "metadata": {},
     "output_type": "execute_result"
    }
   ],
   "source": [
    "#Set - mutable -- it's changeable --> curly brackets \n",
    "\n",
    "my_set = {1,2,3,4,5}\n",
    "print(my_set)\n",
    "type(my_set)"
   ]
  },
  {
   "cell_type": "code",
   "execution_count": 178,
   "id": "4e2e4ba9",
   "metadata": {},
   "outputs": [
    {
     "name": "stdout",
     "output_type": "stream",
     "text": [
      "{5, 6, 7, 8, 9}\n"
     ]
    }
   ],
   "source": [
    " #convert a list to a set\n",
    "list_5 = [5,6,7,7,8,9]\n",
    "\n",
    "x = set(list_5)\n",
    "print(x)"
   ]
  },
  {
   "cell_type": "code",
   "execution_count": 179,
   "id": "fdcfcd95",
   "metadata": {},
   "outputs": [
    {
     "name": "stdout",
     "output_type": "stream",
     "text": [
      "{1, 2, 3, 4, 5}\n"
     ]
    }
   ],
   "source": [
    "#set does not allow duplicate values \n",
    "set_3 = {1,2,3,4,5,1,2,3}\n",
    "print(set_3)"
   ]
  },
  {
   "cell_type": "code",
   "execution_count": 180,
   "id": "af05ab24",
   "metadata": {},
   "outputs": [
    {
     "name": "stdout",
     "output_type": "stream",
     "text": [
      "{'name': 'david', 'age': '30', 'country': 'india'}\n"
     ]
    },
    {
     "data": {
      "text/plain": [
       "dict"
      ]
     },
     "execution_count": 180,
     "metadata": {},
     "output_type": "execute_result"
    }
   ],
   "source": [
    "#Dictionary data type\n",
    "# key-value Pair \n",
    "my_dictionary = {\"name\":\"david\",\"age\":\"30\",\"country\":\"india\"}\n",
    "print(my_dictionary)\n",
    "type(my_dictionary)"
   ]
  },
  {
   "cell_type": "code",
   "execution_count": 181,
   "id": "51221e18",
   "metadata": {},
   "outputs": [
    {
     "name": "stdout",
     "output_type": "stream",
     "text": [
      "david\n",
      "30\n",
      "india\n"
     ]
    }
   ],
   "source": [
    "print(my_dictionary[\"name\"])\n",
    "print(my_dictionary[\"age\"])\n",
    "print(my_dictionary[\"country\"])"
   ]
  },
  {
   "cell_type": "code",
   "execution_count": 183,
   "id": "12f4c96f",
   "metadata": {},
   "outputs": [
    {
     "name": "stdout",
     "output_type": "stream",
     "text": [
      "{'name': 'david', 'age': '30', 'country': 'india'}\n"
     ]
    }
   ],
   "source": [
    "#dictionary does not allow duplicate values\n",
    "dictionary_2 = {\"name\":\"david\",\"age\":\"30\",\"country\":\"india\",\"name\":\"david\",\"age\":\"30\",\"country\":\"india\"}\n",
    "print(dictionary_2)"
   ]
  },
  {
   "cell_type": "code",
   "execution_count": null,
   "id": "f06b33e7",
   "metadata": {},
   "outputs": [],
   "source": [
    "#Operators in Python:\n",
    "#Arithmetic Operators\n",
    "#Assignment Operators\n",
    "#Comparison Operators\n",
    "#Logical Operators\n",
    "#Indentity Operators\n",
    "#Membership Operators"
   ]
  },
  {
   "cell_type": "code",
   "execution_count": 191,
   "id": "0e7416d3",
   "metadata": {},
   "outputs": [
    {
     "name": "stdout",
     "output_type": "stream",
     "text": [
      "sum =  30\n",
      "difference =  10\n",
      "product =  200\n",
      "quotient =  2.0\n",
      "exponent =  10240000000000\n",
      "reminder =  0\n"
     ]
    }
   ],
   "source": [
    "#Arithmetic Operators\n",
    "\n",
    "num_1 = 20\n",
    "num_2 = 10\n",
    "\n",
    "#Addition\n",
    "\n",
    "sum = num_1 + num_2\n",
    "print(\"sum = \",sum)\n",
    "\n",
    "#subtraction\n",
    "diff = num_1 - num_2\n",
    "print(\"difference = \",diff)\n",
    "\n",
    "#Multiplication\n",
    "pro = num_1 * num_2\n",
    "print(\"product = \",pro)\n",
    "\n",
    "#division\n",
    "quo = num_1 / num_2\n",
    "print(\"quotient = \",quo)\n",
    "\n",
    "#exponent\n",
    "exp = num_1 ** num_2\n",
    "print(\"exponent = \",exp)\n",
    "\n",
    "#modulus\n",
    "mod = num_1 % num_2\n",
    "print(\"reminder = \",mod)"
   ]
  },
  {
   "cell_type": "code",
   "execution_count": 195,
   "id": "858ad68e",
   "metadata": {},
   "outputs": [
    {
     "name": "stdout",
     "output_type": "stream",
     "text": [
      "5\n",
      "10\n",
      "3\n"
     ]
    }
   ],
   "source": [
    "#assignment Operators\n",
    "# +=\n",
    "# -=\n",
    "# *=\n",
    "# **=\n",
    "# /=\n",
    "# %=\n",
    "\n",
    "a = 5\n",
    "print(a)\n",
    "\n",
    "a += 5 #a = a + 5\n",
    "print(a)\n",
    "\n",
    "b = 5\n",
    "b -= 2 #b = b-2\n",
    "print(b)\n"
   ]
  },
  {
   "cell_type": "code",
   "execution_count": 199,
   "id": "7904e00d",
   "metadata": {},
   "outputs": [
    {
     "name": "stdout",
     "output_type": "stream",
     "text": [
      "False\n",
      "True\n",
      "False\n",
      "True\n",
      "True\n",
      "False\n"
     ]
    }
   ],
   "source": [
    "#Comparison Operators\n",
    "\n",
    "a = 5\n",
    "b = 10 \n",
    "\n",
    "print(a == b) #equal to\n",
    "print(a != b) #not equal to\n",
    "print(a > b) # greater than\n",
    "print(a < b) # less than\n",
    "print(a <= b)\n",
    "print(a >= b)"
   ]
  },
  {
   "cell_type": "code",
   "execution_count": 206,
   "id": "fb035eaa",
   "metadata": {},
   "outputs": [
    {
     "name": "stdout",
     "output_type": "stream",
     "text": [
      "False\n",
      "True\n",
      "False\n"
     ]
    }
   ],
   "source": [
    "#logical Operators\n",
    "# And\n",
    "# Or\n",
    "# not\n",
    "\n",
    "a = 10\n",
    "\n",
    "print(a > 20 and a >5)\n",
    "print(a > 20 or a >5)\n",
    "print(not(a > 8 and a >5))"
   ]
  },
  {
   "cell_type": "code",
   "execution_count": 207,
   "id": "924929d5",
   "metadata": {},
   "outputs": [
    {
     "name": "stdout",
     "output_type": "stream",
     "text": [
      "True\n"
     ]
    }
   ],
   "source": [
    "#Identity Operators\n",
    "\n",
    "# is \n",
    "# is not\n",
    "\n",
    "x = 5\n",
    "y = 5\n",
    "\n",
    "print(x is y)"
   ]
  },
  {
   "cell_type": "code",
   "execution_count": 209,
   "id": "96cb4c37",
   "metadata": {},
   "outputs": [
    {
     "name": "stdout",
     "output_type": "stream",
     "text": [
      "True\n"
     ]
    }
   ],
   "source": [
    "x = 5\n",
    "y = 10\n",
    "\n",
    "print(x is not y)"
   ]
  },
  {
   "cell_type": "code",
   "execution_count": 212,
   "id": "8cd2870a",
   "metadata": {},
   "outputs": [
    {
     "name": "stdout",
     "output_type": "stream",
     "text": [
      "False\n",
      "True\n"
     ]
    }
   ],
   "source": [
    "#Membership Operators \n",
    "\n",
    "#in \n",
    "# not in\n",
    "\n",
    "a = 5\n",
    "b = 10\n",
    "\n",
    "c = [1,2,3,4,5]\n",
    "print(a not in c)\n",
    "print(b not in c)"
   ]
  },
  {
   "cell_type": "code",
   "execution_count": 213,
   "id": "5fd85473",
   "metadata": {},
   "outputs": [
    {
     "name": "stdout",
     "output_type": "stream",
     "text": [
      "b is greatest number\n"
     ]
    }
   ],
   "source": [
    "# simple if else statement\n",
    "\n",
    "a = 30 \n",
    "b = 50\n",
    "\n",
    "if (a > b):\n",
    "    print(\"a is the greatest number\")\n",
    "else:\n",
    "    print(\"b is greatest number\")"
   ]
  },
  {
   "cell_type": "code",
   "execution_count": 215,
   "id": "612dec46",
   "metadata": {},
   "outputs": [
    {
     "name": "stdout",
     "output_type": "stream",
     "text": [
      "enter the first number : 16\n",
      "enter the second number : 20\n",
      "second number is greatest number\n"
     ]
    }
   ],
   "source": [
    "a = int(input(\"enter the first number : \"))\n",
    "b = int(input(\"enter the second number : \"))\n",
    "\n",
    "if (a > b):\n",
    "    print(\"first number is the greatest number\")\n",
    "else:\n",
    "    print(\"second number is greatest number\")\n"
   ]
  },
  {
   "cell_type": "code",
   "execution_count": 216,
   "id": "c83b3684",
   "metadata": {},
   "outputs": [
    {
     "name": "stdout",
     "output_type": "stream",
     "text": [
      "c is the greatest number\n"
     ]
    }
   ],
   "source": [
    "#if elif else statment\n",
    "\n",
    "a = 15 \n",
    "b = 25\n",
    "c = 30\n",
    "\n",
    "if (b<a>c):\n",
    "    print(\"a is the greatest number\")\n",
    "elif(a<b>c):\n",
    "    print(\"b is the greatest number\")\n",
    "else:\n",
    "    print(\"c is the greatest number\")"
   ]
  },
  {
   "cell_type": "code",
   "execution_count": 219,
   "id": "a8be28ca",
   "metadata": {},
   "outputs": [
    {
     "name": "stdout",
     "output_type": "stream",
     "text": [
      "c is the greatest number\n"
     ]
    }
   ],
   "source": [
    "#nested if statement\n",
    "\n",
    "a = 20\n",
    "b = 40\n",
    "c = 60 \n",
    "\n",
    "if (a >b):\n",
    "    if a(a>c):\n",
    "        print(\"a is the greatest number\")\n",
    "    else:\n",
    "        print(\"c is the greatest number\")\n",
    "else:\n",
    "    if (b>c):\n",
    "        print(\"b is the greatest number\")\n",
    "    else:\n",
    "        print(\"c is the greatest number\")"
   ]
  },
  {
   "cell_type": "code",
   "execution_count": 222,
   "id": "9572264d",
   "metadata": {},
   "outputs": [
    {
     "name": "stdout",
     "output_type": "stream",
     "text": [
      "enter the price of the laptop : 20000\n"
     ]
    }
   ],
   "source": [
    "#For loop and While loop\n",
    "\n",
    "laptop1 = int(input(\"enter the price of the laptop : \"))\n"
   ]
  },
  {
   "cell_type": "code",
   "execution_count": 223,
   "id": "078b4731",
   "metadata": {},
   "outputs": [
    {
     "name": "stdout",
     "output_type": "stream",
     "text": [
      "enter the price of the laptop : 20000\n",
      "enter the price of the laptop : 30000\n",
      "enter the price of the laptop : 40000\n",
      "enter the price of the laptop : 50000\n",
      "enter the price of the laptop : 6000\n"
     ]
    }
   ],
   "source": [
    "for i in range(5): #0,1,2,3,4,5\n",
    "    laptop_price = int(input(\"enter the price of the laptop : \"))"
   ]
  },
  {
   "cell_type": "code",
   "execution_count": 224,
   "id": "452e5e60",
   "metadata": {},
   "outputs": [
    {
     "name": "stdout",
     "output_type": "stream",
     "text": [
      "50\n",
      "100\n",
      "150\n",
      "200\n"
     ]
    }
   ],
   "source": [
    "numbers = [50,100,150,200]\n",
    "\n",
    "print(numbers[0])\n",
    "print(numbers[1])\n",
    "print(numbers[2])\n",
    "print(numbers[3])"
   ]
  },
  {
   "cell_type": "code",
   "execution_count": 225,
   "id": "40484530",
   "metadata": {},
   "outputs": [
    {
     "name": "stdout",
     "output_type": "stream",
     "text": [
      "50\n",
      "100\n",
      "150\n",
      "200\n"
     ]
    }
   ],
   "source": [
    "numbers = [50,100,150,200]\n",
    "\n",
    "for i in numbers:\n",
    "    print(i)"
   ]
  },
  {
   "cell_type": "code",
   "execution_count": 228,
   "id": "089ae898",
   "metadata": {},
   "outputs": [
    {
     "name": "stdout",
     "output_type": "stream",
     "text": [
      "0\n",
      "1\n",
      "2\n",
      "3\n",
      "4\n",
      "5\n",
      "6\n",
      "7\n",
      "8\n",
      "9\n",
      "10\n"
     ]
    }
   ],
   "source": [
    "#While loop\n",
    "\n",
    "\n",
    "\n",
    "i = 0\n",
    "\n",
    "while i < 11:\n",
    "    print(i)\n",
    "    i += 1 \n",
    "    "
   ]
  },
  {
   "cell_type": "code",
   "execution_count": 229,
   "id": "430717aa",
   "metadata": {},
   "outputs": [],
   "source": [
    "i = 5\n",
    "\n",
    "while i <3:\n",
    "    prin(i)\n",
    "    i += 1"
   ]
  },
  {
   "cell_type": "code",
   "execution_count": null,
   "id": "7035c45c",
   "metadata": {},
   "outputs": [],
   "source": [
    "##Functions\n",
    "#Function is a block of code that can be reused in a program\n",
    "\n",
    "#Factorial of a NUmber\n",
    "# Factorial of a number is the product of all the positive intergers less than or eqal to the given number"
   ]
  },
  {
   "cell_type": "code",
   "execution_count": 234,
   "id": "2aa8a1bb",
   "metadata": {},
   "outputs": [
    {
     "name": "stdout",
     "output_type": "stream",
     "text": [
      "enter a number to find it's factorial : 10\n",
      "the factorial of 10 is  3628800\n"
     ]
    }
   ],
   "source": [
    "#factorial of 5 = 5x4x3x2x1 = 120\n",
    "\n",
    "number = int(input(\"enter a number to find it's factorial : \"))\n",
    "\n",
    "factorial = 1\n",
    "\n",
    "if number == 0:\n",
    "    print(\"the factorial of 0 is 1\")\n",
    "\n",
    "else:\n",
    "    for i in range(1, number+1):\n",
    "        factorial = factorial*i\n",
    "    print(\"the factorial of\", number,'is ',factorial)"
   ]
  },
  {
   "cell_type": "code",
   "execution_count": 245,
   "id": "f19cfd1b",
   "metadata": {},
   "outputs": [
    {
     "name": "stdout",
     "output_type": "stream",
     "text": [
      "120\n",
      "3628800\n",
      "720\n"
     ]
    }
   ],
   "source": [
    "def factorial_value(num):\n",
    "    factorial = 1\n",
    "    \n",
    "    if num == 0:\n",
    "        return factorial\n",
    "    else:\n",
    "        for i in range(1, num+1):\n",
    "            factorial = factorial * i\n",
    "        return factorial\n",
    "print(factorial_value(5))\n",
    "\n",
    "print(factorial_value(10))\n",
    "\n",
    "print(factorial_value(6))"
   ]
  }
 ],
 "metadata": {
  "kernelspec": {
   "display_name": "Python 3 (ipykernel)",
   "language": "python",
   "name": "python3"
  },
  "language_info": {
   "codemirror_mode": {
    "name": "ipython",
    "version": 3
   },
   "file_extension": ".py",
   "mimetype": "text/x-python",
   "name": "python",
   "nbconvert_exporter": "python",
   "pygments_lexer": "ipython3",
   "version": "3.8.12"
  }
 },
 "nbformat": 4,
 "nbformat_minor": 5
}
