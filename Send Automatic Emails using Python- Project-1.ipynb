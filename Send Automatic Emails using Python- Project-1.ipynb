{
 "cells": [
  {
   "cell_type": "markdown",
   "id": "9b38f3b6",
   "metadata": {},
   "source": [
    "# Send Automatic Emails using Python"
   ]
  },
  {
   "cell_type": "markdown",
   "id": "ac7b0e6c",
   "metadata": {},
   "source": [
    "Every time you register on a new app, you automatically receive a welcome message with your name on it. If you want to learn how to send such emails automatically, then this article is for you. In this article, I will walk you through how to send automatic emails using Python."
   ]
  },
  {
   "cell_type": "markdown",
   "id": "365629bc",
   "metadata": {},
   "source": [
    "# How to Send Automatic Emails using Python?"
   ]
  },
  {
   "cell_type": "markdown",
   "id": "d1ac61e3",
   "metadata": {},
   "source": [
    "To send automatic emails using Python, you must first understand how to send an email using the Python programming language. Once you know how to send an email using Python, the next thing you need to figure out is what you want to send automatically. For example, many companies send OTP or welcome messages, while some companies even send newsletters to newly registered users.\n",
    "\n",
    "So in the section below, I will take you through how to send automatic emails using Python. I will automatically send a welcome message to the newly registered user. For this task, you must first generate a google app password for your Gmail account. If you don’t know how to generate it, you can learn more from the video below."
   ]
  },
  {
   "cell_type": "markdown",
   "id": "006be180",
   "metadata": {},
   "source": [
    "# Send Automatic Emails using Python"
   ]
  },
  {
   "cell_type": "markdown",
   "id": "e1d78f4e",
   "metadata": {},
   "source": [
    "It is very important to generate a Google app password for your Gmail account, as you will be sending automatic emails using Python through your Gmail account. Once you’ve generated your Google app password, here’s how you can start the task of sending emails using Python:"
   ]
  },
  {
   "cell_type": "code",
   "execution_count": 2,
   "id": "1f837f34",
   "metadata": {},
   "outputs": [
    {
     "name": "stdout",
     "output_type": "stream",
     "text": [
      "Enter Your Name >>: Srinivasa K\n",
      "Enter Your Email >>: srinivasak4512@gmail.com\n",
      "Email Sent!\n"
     ]
    }
   ],
   "source": [
    "import os\n",
    "import random\n",
    "import smtplib\n",
    "\n",
    "\n",
    "def automatic_email():\n",
    "    user = input(\"Enter Your Name >>: \")\n",
    "    email = input(\"Enter Your Email >>: \")\n",
    "    message = (f\"Dear {user}, Welcome to Thecleverprogrammer\")\n",
    "    s = smtplib.SMTP('smtp.gmail.com', 587)\n",
    "    s.starttls()\n",
    "    s.login(\"srinivasak4512@gmail.com\", \"fydocgmavesx\")\n",
    "    s.sendmail('&&&&&&&&&&&', email, message)\n",
    "    print(\"Email Sent!\")\n",
    "    \n",
    "automatic_email()"
   ]
  },
  {
   "cell_type": "markdown",
   "id": "78004daa",
   "metadata": {},
   "source": [
    "In the code above I have defined a Python function that will automatically send emails to a newly registered user. This function will start by asking for the user’s name and email. Then the user’s name will be stored in the message. Then in the 12th line of the code above, you need to replace the first parameter with your email and the second parameter with the google app password you generated before. After that just run the above code and you will see the output as shown below."
   ]
  },
  {
   "cell_type": "code",
   "execution_count": null,
   "id": "5eb85458",
   "metadata": {},
   "outputs": [],
   "source": [
    "Enter Your Name >>: Srinivasa K\n",
    "Enter Your Email >>: srinivasak4512@gmail.com\n",
    "Email Sent!"
   ]
  },
  {
   "cell_type": "markdown",
   "id": "88aa3493",
   "metadata": {},
   "source": [
    "After filling in details to these user inputs I got an email in my inbox as shown below."
   ]
  },
  {
   "cell_type": "code",
   "execution_count": null,
   "id": "50b4925c",
   "metadata": {},
   "outputs": [],
   "source": [
    "Dear Srinivasa K, Welcome to Thecleverprogrammer"
   ]
  },
  {
   "cell_type": "markdown",
   "id": "a9440479",
   "metadata": {},
   "source": [
    "# Summary"
   ]
  },
  {
   "cell_type": "markdown",
   "id": "133b293b",
   "metadata": {},
   "source": [
    "So this is how you can send automatic emails using Python. To send automatic emails using Python, you must first understand how to send an email using the Python programming language. Once you know how to send an email using Python, the next thing you need to figure out is what you want to send automatically. I hope you liked this articles on how to send emails automatically using Python."
   ]
  }
 ],
 "metadata": {
  "kernelspec": {
   "display_name": "Python 3 (ipykernel)",
   "language": "python",
   "name": "python3"
  },
  "language_info": {
   "codemirror_mode": {
    "name": "ipython",
    "version": 3
   },
   "file_extension": ".py",
   "mimetype": "text/x-python",
   "name": "python",
   "nbconvert_exporter": "python",
   "pygments_lexer": "ipython3",
   "version": "3.8.12"
  }
 },
 "nbformat": 4,
 "nbformat_minor": 5
}
