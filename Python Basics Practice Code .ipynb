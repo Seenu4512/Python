{
 "cells": [
  {
   "cell_type": "code",
   "execution_count": 5,
   "id": "fb8a4ae2",
   "metadata": {},
   "outputs": [
    {
     "name": "stdout",
     "output_type": "stream",
     "text": [
      "SRIRAM\n",
      "<class 'str'>\n"
     ]
    }
   ],
   "source": [
    "name = \"sriram\"\n",
    "\n",
    "print(name.upper())\n",
    "print(type(name))"
   ]
  },
  {
   "cell_type": "code",
   "execution_count": 11,
   "id": "0c9f61be",
   "metadata": {},
   "outputs": [
    {
     "name": "stdout",
     "output_type": "stream",
     "text": [
      "srinivasKrish  srinivasKrish  srinivasKrish  srinivasKrish  srinivasKrish  \n"
     ]
    }
   ],
   "source": [
    "firstname = \"srinivas\"\n",
    "lastname = \"Krish  \"\n",
    "\n",
    "fullname = firstname + lastname\n",
    "\n",
    "print(fullname*5 )"
   ]
  },
  {
   "cell_type": "code",
   "execution_count": 18,
   "id": "c541070e",
   "metadata": {},
   "outputs": [
    {
     "name": "stdout",
     "output_type": "stream",
     "text": [
      "n\n",
      "srini\n"
     ]
    }
   ],
   "source": [
    "Name = \"srinivas\"\n",
    "\n",
    "print(Name[3])\n",
    "print(Name[0:5])"
   ]
  },
  {
   "cell_type": "code",
   "execution_count": 26,
   "id": "b8944588",
   "metadata": {},
   "outputs": [
    {
     "name": "stdout",
     "output_type": "stream",
     "text": [
      "False\n"
     ]
    }
   ],
   "source": [
    "name = \"narayana\"\n",
    "\n",
    "'r' in name\n",
    "'s' in name\n",
    "\"y\" in name\n",
    "\n",
    "print('y' not in name)"
   ]
  },
  {
   "cell_type": "code",
   "execution_count": 28,
   "id": "359f0514",
   "metadata": {},
   "outputs": [
    {
     "name": "stdout",
     "output_type": "stream",
     "text": [
      "ram\n"
     ]
    }
   ],
   "source": [
    "# [:] symbol is used for string slicing\n",
    "\n",
    "name = \"sriram\"\n",
    "print(name[3:6])"
   ]
  },
  {
   "cell_type": "code",
   "execution_count": 32,
   "id": "01b3747c",
   "metadata": {},
   "outputs": [
    {
     "name": "stdout",
     "output_type": "stream",
     "text": [
      "my name is sriram my age is 9 my height is 4.5\n",
      "my name is sriram\n",
      "my age is 9\n",
      "my height is 4.5\n"
     ]
    }
   ],
   "source": [
    "# String Formating\n",
    "name = \"sriram\"\n",
    "age = 9\n",
    "height = 4.5\n",
    "print(\"my name is\",name,\"my age is\",age,\"my height is\",height )\n",
    "\n",
    "\n",
    "print(\"my name is\", name)\n",
    "print(\"my age is\", age)\n",
    "print(\"my height is\",height)"
   ]
  },
  {
   "cell_type": "code",
   "execution_count": 33,
   "id": "79ff4770",
   "metadata": {},
   "outputs": [
    {
     "name": "stdout",
     "output_type": "stream",
     "text": [
      "my name is sriram my age is 9 years my height is 4.5 feet\n"
     ]
    }
   ],
   "source": [
    "print(\"my name is {} my age is {} years my height is {} feet\".format(name,age,height))"
   ]
  },
  {
   "cell_type": "code",
   "execution_count": 48,
   "id": "49c19cee",
   "metadata": {},
   "outputs": [
    {
     "name": "stdout",
     "output_type": "stream",
     "text": [
      "0\n",
      "1\n",
      "2\n",
      "1\n",
      "4\n",
      "5\n"
     ]
    }
   ],
   "source": [
    "name = \"sriram\"\n",
    "\n",
    "print(name.find('s'))\n",
    "print(name.find('r'))\n",
    "print(name.find('i'))\n",
    "print(name.find('r'))\n",
    "print(name.find('a'))\n",
    "print(name.find('m'))"
   ]
  },
  {
   "cell_type": "code",
   "execution_count": 49,
   "id": "3acf4baa",
   "metadata": {},
   "outputs": [
    {
     "name": "stdout",
     "output_type": "stream",
     "text": [
      "6\n"
     ]
    }
   ],
   "source": [
    "name = \"sriram\"\n",
    "\n",
    "print(len(name))"
   ]
  },
  {
   "cell_type": "code",
   "execution_count": 51,
   "id": "1ff0788d",
   "metadata": {},
   "outputs": [
    {
     "name": "stdout",
     "output_type": "stream",
     "text": [
      "sriram\n",
      "SRIRAM\n"
     ]
    }
   ],
   "source": [
    "name = \"sriram\"\n",
    "print(name.lower())\n",
    "print(name.upper())"
   ]
  },
  {
   "cell_type": "code",
   "execution_count": 56,
   "id": "76a9dc8f",
   "metadata": {},
   "outputs": [
    {
     "name": "stdout",
     "output_type": "stream",
     "text": [
      "sriram      \n",
      "sriram      \n",
      "sriram\n"
     ]
    }
   ],
   "source": [
    "name = \"sriram      \"\n",
    "print(name)\n",
    "print(name.lstrip())\n",
    "print(name.rstrip())"
   ]
  },
  {
   "cell_type": "code",
   "execution_count": 59,
   "id": "7ec49094",
   "metadata": {},
   "outputs": [
    {
     "name": "stdout",
     "output_type": "stream",
     "text": [
      "srinivas\n",
      "sriram\n"
     ]
    }
   ],
   "source": [
    "name = \"sriram\"\n",
    "\n",
    "print(name.replace(name,\"srinivas\"))\n",
    "print(name)"
   ]
  },
  {
   "cell_type": "code",
   "execution_count": 61,
   "id": "8ea02594",
   "metadata": {},
   "outputs": [
    {
     "name": "stdout",
     "output_type": "stream",
     "text": [
      "C is good programming language\n",
      "['C', 'is', 'good', 'programming', 'language']\n"
     ]
    }
   ],
   "source": [
    "name = \"C is good programming language\"\n",
    "\n",
    "print(name)\n",
    "\n",
    "print(name.split())"
   ]
  },
  {
   "cell_type": "code",
   "execution_count": 70,
   "id": "f4b8b78b",
   "metadata": {},
   "outputs": [
    {
     "name": "stdout",
     "output_type": "stream",
     "text": [
      "[3, 4, 5, 6, 7, 8, 45]\n"
     ]
    }
   ],
   "source": [
    "#List Data Type\n",
    "\n",
    "list = [3,4,5,6,7,8,45]\n",
    "\n",
    "print(list)"
   ]
  },
  {
   "cell_type": "code",
   "execution_count": 81,
   "id": "7c64d78f",
   "metadata": {},
   "outputs": [
    {
     "name": "stdout",
     "output_type": "stream",
     "text": [
      "<class 'list'>\n",
      "58\n",
      "64\n",
      "89\n",
      "74\n"
     ]
    }
   ],
   "source": [
    "#List Indexing \"[]\"\n",
    "\n",
    "list1 = [58,64,89,74]\n",
    "\n",
    "print(type(list1))\n",
    "\n",
    "print(list1[0])\n",
    "print(list1[1])\n",
    "print(list1[2])\n",
    "print(list1[3])"
   ]
  },
  {
   "cell_type": "code",
   "execution_count": 82,
   "id": "5e8d840c",
   "metadata": {},
   "outputs": [
    {
     "data": {
      "text/plain": [
       "[8, 7, 4, 2]"
      ]
     },
     "execution_count": 82,
     "metadata": {},
     "output_type": "execute_result"
    }
   ],
   "source": [
    "#list slicing \"[:]\"\n",
    "\n",
    "list2 = [6,8,7,4,2,9]\n",
    "list2[1:5]"
   ]
  },
  {
   "cell_type": "code",
   "execution_count": 85,
   "id": "ed5aac6c",
   "metadata": {},
   "outputs": [
    {
     "name": "stdout",
     "output_type": "stream",
     "text": [
      "my age is 25\n"
     ]
    }
   ],
   "source": [
    "x = 25\n",
    "\n",
    "formatted = f\"my age is {x}\"\n",
    "\n",
    "print(formatted)"
   ]
  },
  {
   "cell_type": "code",
   "execution_count": 87,
   "id": "e6e0161b",
   "metadata": {},
   "outputs": [
    {
     "name": "stdout",
     "output_type": "stream",
     "text": [
      "my age is 15\n"
     ]
    }
   ],
   "source": [
    "x = 15\n",
    "formatted = \"my age is {}\".format(x)\n",
    "\n",
    "print(formatted)"
   ]
  },
  {
   "cell_type": "code",
   "execution_count": 89,
   "id": "62291bcc",
   "metadata": {},
   "outputs": [
    {
     "name": "stdout",
     "output_type": "stream",
     "text": [
      "hi rohit, your age is 22\n"
     ]
    }
   ],
   "source": [
    "name = \"rohit\"\n",
    "age = 22\n",
    "\n",
    "formatted = \"hi {1}, your age is {0}\".format(age,name)\n",
    "\n",
    "print(formatted)"
   ]
  },
  {
   "cell_type": "code",
   "execution_count": 91,
   "id": "4a96815f",
   "metadata": {},
   "outputs": [
    {
     "data": {
      "text/plain": [
       "14"
      ]
     },
     "execution_count": 91,
     "metadata": {},
     "output_type": "execute_result"
    }
   ],
   "source": [
    "decimal = 14.6545\n",
    "integer = int(decimal)\n",
    "\n",
    "integer"
   ]
  },
  {
   "cell_type": "code",
   "execution_count": 93,
   "id": "990c2dba",
   "metadata": {},
   "outputs": [
    {
     "data": {
      "text/plain": [
       "list"
      ]
     },
     "execution_count": 93,
     "metadata": {},
     "output_type": "execute_result"
    }
   ],
   "source": [
    "mylist = [1,2,3,4]\n",
    "type(mylist)"
   ]
  },
  {
   "cell_type": "code",
   "execution_count": 96,
   "id": "0af3798c",
   "metadata": {},
   "outputs": [
    {
     "data": {
      "text/plain": [
       "46.0"
      ]
     },
     "execution_count": 96,
     "metadata": {},
     "output_type": "execute_result"
    }
   ],
   "source": [
    "num = 46\n",
    "\n",
    "type(num)\n",
    "\n",
    "num = float(num)\n",
    "\n",
    "num"
   ]
  },
  {
   "cell_type": "code",
   "execution_count": 98,
   "id": "135a68b5",
   "metadata": {},
   "outputs": [
    {
     "ename": "TypeError",
     "evalue": "'str' object does not support item assignment",
     "output_type": "error",
     "traceback": [
      "\u001b[1;31m---------------------------------------------------------------------------\u001b[0m",
      "\u001b[1;31mTypeError\u001b[0m                                 Traceback (most recent call last)",
      "\u001b[1;32mC:\\Users\\ADMINI~1\\AppData\\Local\\Temp/ipykernel_9804/780332448.py\u001b[0m in \u001b[0;36m<module>\u001b[1;34m\u001b[0m\n\u001b[0;32m      1\u001b[0m \u001b[0mname\u001b[0m \u001b[1;33m=\u001b[0m \u001b[1;34m\"rohit\"\u001b[0m\u001b[1;33m\u001b[0m\u001b[1;33m\u001b[0m\u001b[0m\n\u001b[0;32m      2\u001b[0m \u001b[1;33m\u001b[0m\u001b[0m\n\u001b[1;32m----> 3\u001b[1;33m \u001b[0mname\u001b[0m\u001b[1;33m[\u001b[0m\u001b[1;36m0\u001b[0m\u001b[1;33m]\u001b[0m \u001b[1;33m=\u001b[0m \u001b[1;34m'M'\u001b[0m\u001b[1;33m\u001b[0m\u001b[1;33m\u001b[0m\u001b[0m\n\u001b[0m\u001b[0;32m      4\u001b[0m \u001b[0mprint\u001b[0m\u001b[1;33m(\u001b[0m\u001b[0mname\u001b[0m\u001b[1;33m)\u001b[0m\u001b[1;33m\u001b[0m\u001b[1;33m\u001b[0m\u001b[0m\n",
      "\u001b[1;31mTypeError\u001b[0m: 'str' object does not support item assignment"
     ]
    }
   ],
   "source": [
    "name = \"rohit\"\n",
    "\n",
    "name[0] = 'M'\n",
    "print(name)"
   ]
  },
  {
   "cell_type": "code",
   "execution_count": 102,
   "id": "a3ef9dd8",
   "metadata": {},
   "outputs": [
    {
     "name": "stdout",
     "output_type": "stream",
     "text": [
      "rohit kumar\n",
      "<class 'str'>\n"
     ]
    }
   ],
   "source": [
    "name = \"rohit \"\n",
    "lastname = \"kumar\"\n",
    "\n",
    "fullname = name + lastname\n",
    "\n",
    "print(fullname)\n",
    "print(type(fullname))"
   ]
  },
  {
   "cell_type": "code",
   "execution_count": 108,
   "id": "0a04b394",
   "metadata": {},
   "outputs": [
    {
     "data": {
      "text/plain": [
       "15"
      ]
     },
     "execution_count": 108,
     "metadata": {},
     "output_type": "execute_result"
    }
   ],
   "source": [
    "#Built-in Functions\n",
    "\n",
    "name = \"Rohit Kumar\"\n",
    "\n",
    "len(name)\n",
    "\n",
    "len(\"Rohit Kumar\")\n",
    "\n",
    "len(\"123456778931234\")"
   ]
  },
  {
   "cell_type": "code",
   "execution_count": 109,
   "id": "849db8f6",
   "metadata": {},
   "outputs": [
    {
     "data": {
      "text/plain": [
       "'MY NAME IS ROHIT'"
      ]
     },
     "execution_count": 109,
     "metadata": {},
     "output_type": "execute_result"
    }
   ],
   "source": [
    "#String Methods\n",
    "\n",
    "name = \"my name is Rohit\"\n",
    "\n",
    "name.upper()"
   ]
  },
  {
   "cell_type": "code",
   "execution_count": 110,
   "id": "e2f2946e",
   "metadata": {},
   "outputs": [
    {
     "data": {
      "text/plain": [
       "'My name is rohit'"
      ]
     },
     "execution_count": 110,
     "metadata": {},
     "output_type": "execute_result"
    }
   ],
   "source": [
    "name.capitalize()"
   ]
  },
  {
   "cell_type": "code",
   "execution_count": 111,
   "id": "f9529e85",
   "metadata": {},
   "outputs": [
    {
     "data": {
      "text/plain": [
       "'my name is rohit'"
      ]
     },
     "execution_count": 111,
     "metadata": {},
     "output_type": "execute_result"
    }
   ],
   "source": [
    "name.lower()"
   ]
  },
  {
   "cell_type": "code",
   "execution_count": 112,
   "id": "1d628970",
   "metadata": {},
   "outputs": [
    {
     "data": {
      "text/plain": [
       "8"
      ]
     },
     "execution_count": 112,
     "metadata": {},
     "output_type": "execute_result"
    }
   ],
   "source": [
    "name.find(\"is\")"
   ]
  },
  {
   "cell_type": "code",
   "execution_count": 114,
   "id": "d418e3cd",
   "metadata": {},
   "outputs": [
    {
     "data": {
      "text/plain": [
       "'my name is Rohit'"
      ]
     },
     "execution_count": 114,
     "metadata": {},
     "output_type": "execute_result"
    }
   ],
   "source": [
    "name.replace(\"rohit\",\"Srinivas\")\n",
    "\n",
    "name"
   ]
  },
  {
   "cell_type": "code",
   "execution_count": 115,
   "id": "0d59b9a9",
   "metadata": {},
   "outputs": [
    {
     "name": "stdout",
     "output_type": "stream",
     "text": [
      "my name is Rohit\n"
     ]
    }
   ],
   "source": [
    "print(name)"
   ]
  },
  {
   "cell_type": "code",
   "execution_count": 124,
   "id": "6813d914",
   "metadata": {},
   "outputs": [
    {
     "name": "stdout",
     "output_type": "stream",
     "text": [
      "my name is Rohit\n",
      "my name is Rohit\n"
     ]
    },
    {
     "data": {
      "text/plain": [
       "2165584552304"
      ]
     },
     "execution_count": 124,
     "metadata": {},
     "output_type": "execute_result"
    }
   ],
   "source": [
    "new_line = name.replace(\"srinivas\",\"rohit\")\n",
    "\n",
    "print(new_line)\n",
    "\n",
    "print(name)\n",
    "\n",
    "id(name)"
   ]
  },
  {
   "cell_type": "code",
   "execution_count": 125,
   "id": "ef169da6",
   "metadata": {},
   "outputs": [
    {
     "name": "stdout",
     "output_type": "stream",
     "text": [
      "what is your name: Srinivas \n",
      "Srinivas \n"
     ]
    }
   ],
   "source": [
    "#Getting User Input\n",
    "\n",
    "name = input(\"what is your name: \")\n",
    "\n",
    "print(name)"
   ]
  },
  {
   "cell_type": "code",
   "execution_count": 127,
   "id": "d8ea69f5",
   "metadata": {},
   "outputs": [
    {
     "name": "stdout",
     "output_type": "stream",
     "text": [
      "what is your age: 27\n",
      "27\n"
     ]
    },
    {
     "data": {
      "text/plain": [
       "str"
      ]
     },
     "execution_count": 127,
     "metadata": {},
     "output_type": "execute_result"
    }
   ],
   "source": [
    "age = input(\"what is your age: \")\n",
    "print(age)\n",
    "\n",
    "type(age)"
   ]
  },
  {
   "cell_type": "code",
   "execution_count": 130,
   "id": "5e10c315",
   "metadata": {},
   "outputs": [
    {
     "name": "stdout",
     "output_type": "stream",
     "text": [
      "2165484344944\n",
      "2165484344944\n"
     ]
    }
   ],
   "source": [
    "abc = '1'\n",
    "cde = '1'\n",
    "\n",
    "print(id(abc))\n",
    "print(id(cde))"
   ]
  },
  {
   "cell_type": "code",
   "execution_count": 131,
   "id": "93acc89e",
   "metadata": {},
   "outputs": [
    {
     "data": {
      "text/plain": [
       "True"
      ]
     },
     "execution_count": 131,
     "metadata": {},
     "output_type": "execute_result"
    }
   ],
   "source": [
    "a = [1,2,3]\n",
    "b = [1,2,3]\n",
    "\n",
    "a == b"
   ]
  },
  {
   "cell_type": "code",
   "execution_count": 132,
   "id": "98345333",
   "metadata": {},
   "outputs": [
    {
     "data": {
      "text/plain": [
       "True"
      ]
     },
     "execution_count": 132,
     "metadata": {},
     "output_type": "execute_result"
    }
   ],
   "source": [
    "True == 1"
   ]
  },
  {
   "cell_type": "code",
   "execution_count": 133,
   "id": "be5eb612",
   "metadata": {},
   "outputs": [
    {
     "data": {
      "text/plain": [
       "False"
      ]
     },
     "execution_count": 133,
     "metadata": {},
     "output_type": "execute_result"
    }
   ],
   "source": [
    "'' == 1"
   ]
  },
  {
   "cell_type": "code",
   "execution_count": 134,
   "id": "36858a1a",
   "metadata": {},
   "outputs": [
    {
     "data": {
      "text/plain": [
       "False"
      ]
     },
     "execution_count": 134,
     "metadata": {},
     "output_type": "execute_result"
    }
   ],
   "source": [
    "[] == 1"
   ]
  },
  {
   "cell_type": "code",
   "execution_count": 135,
   "id": "8a46fddd",
   "metadata": {},
   "outputs": [
    {
     "data": {
      "text/plain": [
       "True"
      ]
     },
     "execution_count": 135,
     "metadata": {},
     "output_type": "execute_result"
    }
   ],
   "source": [
    "10 == 10.0"
   ]
  },
  {
   "cell_type": "code",
   "execution_count": 136,
   "id": "dd620282",
   "metadata": {},
   "outputs": [
    {
     "data": {
      "text/plain": [
       "True"
      ]
     },
     "execution_count": 136,
     "metadata": {},
     "output_type": "execute_result"
    }
   ],
   "source": [
    "int(10) == float(10)"
   ]
  },
  {
   "cell_type": "code",
   "execution_count": 137,
   "id": "fb56f9a3",
   "metadata": {},
   "outputs": [
    {
     "data": {
      "text/plain": [
       "True"
      ]
     },
     "execution_count": 137,
     "metadata": {},
     "output_type": "execute_result"
    }
   ],
   "source": [
    "[] == []"
   ]
  },
  {
   "cell_type": "code",
   "execution_count": 139,
   "id": "3a4afa04",
   "metadata": {},
   "outputs": [
    {
     "name": "stdout",
     "output_type": "stream",
     "text": [
      "<class 'list'>\n",
      "[4, 5, 6, 7, 8, 9, 74]\n"
     ]
    }
   ],
   "source": [
    "# List Methods\n",
    "list = [4,5,6,7,8,9,74]\n",
    "\n",
    "print(type(list))\n",
    "print(list)"
   ]
  },
  {
   "cell_type": "code",
   "execution_count": 144,
   "id": "49070bcc",
   "metadata": {},
   "outputs": [
    {
     "name": "stdout",
     "output_type": "stream",
     "text": [
      "58\n",
      "64\n",
      "74\n",
      "69\n",
      "59\n"
     ]
    },
    {
     "ename": "IndexError",
     "evalue": "list index out of range",
     "output_type": "error",
     "traceback": [
      "\u001b[1;31m---------------------------------------------------------------------------\u001b[0m",
      "\u001b[1;31mIndexError\u001b[0m                                Traceback (most recent call last)",
      "\u001b[1;32mC:\\Users\\ADMINI~1\\AppData\\Local\\Temp/ipykernel_9804/568406917.py\u001b[0m in \u001b[0;36m<module>\u001b[1;34m\u001b[0m\n\u001b[0;32m      6\u001b[0m \u001b[0mprint\u001b[0m\u001b[1;33m(\u001b[0m\u001b[0mlist\u001b[0m\u001b[1;33m[\u001b[0m\u001b[1;36m3\u001b[0m\u001b[1;33m]\u001b[0m\u001b[1;33m)\u001b[0m\u001b[1;33m\u001b[0m\u001b[1;33m\u001b[0m\u001b[0m\n\u001b[0;32m      7\u001b[0m \u001b[0mprint\u001b[0m\u001b[1;33m(\u001b[0m\u001b[0mlist\u001b[0m\u001b[1;33m[\u001b[0m\u001b[1;36m4\u001b[0m\u001b[1;33m]\u001b[0m\u001b[1;33m)\u001b[0m\u001b[1;33m\u001b[0m\u001b[1;33m\u001b[0m\u001b[0m\n\u001b[1;32m----> 8\u001b[1;33m \u001b[0mprint\u001b[0m\u001b[1;33m(\u001b[0m\u001b[0mlist\u001b[0m\u001b[1;33m[\u001b[0m\u001b[1;36m5\u001b[0m\u001b[1;33m]\u001b[0m\u001b[1;33m)\u001b[0m\u001b[1;33m\u001b[0m\u001b[1;33m\u001b[0m\u001b[0m\n\u001b[0m",
      "\u001b[1;31mIndexError\u001b[0m: list index out of range"
     ]
    }
   ],
   "source": [
    "#List Indexing \"[]\"\n",
    "list = [58,64,74,69,59]\n",
    "print(list[0])\n",
    "print(list[1])\n",
    "print(list[2])\n",
    "print(list[3])\n",
    "print(list[4])\n",
    "print(list[5])"
   ]
  },
  {
   "cell_type": "code",
   "execution_count": 148,
   "id": "d97ff1f9",
   "metadata": {},
   "outputs": [
    {
     "name": "stdout",
     "output_type": "stream",
     "text": [
      "[7, 4, 2]\n",
      "[8, 7, 4, 2, 3]\n",
      "[6, 8, 7, 4, 2, 3, 4, 5]\n",
      "[6, 8, 7, 4]\n"
     ]
    }
   ],
   "source": [
    "#List Slicing \"[:]\"\n",
    "\n",
    "list = [6,8,7,4,2,3,4,5]\n",
    "\n",
    "print(list[2:5])\n",
    "print(list[1:6])\n",
    "print(list[0:8])\n",
    "\n",
    "print(list[0:4])"
   ]
  },
  {
   "cell_type": "code",
   "execution_count": 168,
   "id": "df1d1853",
   "metadata": {},
   "outputs": [
    {
     "name": "stdout",
     "output_type": "stream",
     "text": [
      "99\n",
      "48\n",
      "96\n",
      "75\n",
      "[75, 85, 99, 48, 96, 55]\n"
     ]
    }
   ],
   "source": [
    "#List Inserting Data Into List: \n",
    "\n",
    "list = [75,85,35,48,96]\n",
    "list[2] = 99\n",
    "list.append(23)\n",
    "list[5]=55\n",
    "print(list[2])\n",
    "print(list[3])\n",
    "print(list[4])\n",
    "print(list[0])\n",
    "\n",
    "print(list)"
   ]
  },
  {
   "cell_type": "code",
   "execution_count": 161,
   "id": "bf80d73d",
   "metadata": {},
   "outputs": [
    {
     "name": "stdout",
     "output_type": "stream",
     "text": [
      "[85]\n"
     ]
    }
   ],
   "source": [
    "#Deleting Data from List:\n",
    "\n",
    "list = [75,85,35,48,95]\n",
    "del list[2]\n",
    "del list[0]\n",
    "del list[1]\n",
    "del list[1]\n",
    "print(list)\n",
    "\n"
   ]
  },
  {
   "cell_type": "code",
   "execution_count": 171,
   "id": "b4a77b6c",
   "metadata": {},
   "outputs": [
    {
     "name": "stdout",
     "output_type": "stream",
     "text": [
      "[1, 2, 3, 4, 5, 6, 7, 8, 9, 1, 2, 3, 4, 5, 6, 7, 8, 9]\n"
     ]
    }
   ],
   "source": [
    "#Repetition \"*\"\n",
    "list = [1,2,3,4,5,6,7,8,9 ]\n",
    "\n",
    "print(list*2)"
   ]
  },
  {
   "cell_type": "code",
   "execution_count": 173,
   "id": "a7166763",
   "metadata": {},
   "outputs": [
    {
     "name": "stdout",
     "output_type": "stream",
     "text": [
      "[1, 2, 3, 4, 5, 6, 7, 8, 9]\n",
      "<class 'list'>\n"
     ]
    }
   ],
   "source": [
    "#Concatenation '+'\n",
    "list_1 = [1,2,3,4,5]\n",
    "list_2 = [6,7,8,9]\n",
    "\n",
    "list_3 = list_1 + list_2\n",
    "\n",
    "print(list_3)\n",
    "print(type(list_3))"
   ]
  },
  {
   "cell_type": "code",
   "execution_count": 179,
   "id": "57e839e8",
   "metadata": {},
   "outputs": [
    {
     "name": "stdout",
     "output_type": "stream",
     "text": [
      "True\n",
      "False\n",
      "False\n",
      "True\n",
      "9\n"
     ]
    }
   ],
   "source": [
    "a = [1,2,3,4,5,6,7,8,9]\n",
    "\n",
    "print(3 in a)\n",
    "print(0 in a) \n",
    "\n",
    "print(3 not in a)\n",
    "\n",
    "print(0 not in a)\n",
    "\n",
    "print(len(a))"
   ]
  },
  {
   "cell_type": "code",
   "execution_count": 180,
   "id": "bf11a6ba",
   "metadata": {},
   "outputs": [
    {
     "name": "stdout",
     "output_type": "stream",
     "text": [
      "1\n",
      "2\n",
      "3\n",
      "4\n",
      "5\n"
     ]
    }
   ],
   "source": [
    "a = [1,2,3,4,5]\n",
    "\n",
    "for i in a:\n",
    "    print(i) "
   ]
  },
  {
   "cell_type": "code",
   "execution_count": 185,
   "id": "54238c46",
   "metadata": {},
   "outputs": [
    {
     "name": "stdout",
     "output_type": "stream",
     "text": [
      "5\n",
      "1\n",
      "5\n"
     ]
    },
    {
     "ename": "NameError",
     "evalue": "name 'seq' is not defined",
     "output_type": "error",
     "traceback": [
      "\u001b[1;31m---------------------------------------------------------------------------\u001b[0m",
      "\u001b[1;31mNameError\u001b[0m                                 Traceback (most recent call last)",
      "\u001b[1;32mC:\\Users\\ADMINI~1\\AppData\\Local\\Temp/ipykernel_9804/405700176.py\u001b[0m in \u001b[0;36m<module>\u001b[1;34m\u001b[0m\n\u001b[0;32m      8\u001b[0m \u001b[0mprint\u001b[0m\u001b[1;33m(\u001b[0m\u001b[0mmax\u001b[0m\u001b[1;33m(\u001b[0m\u001b[0ma\u001b[0m\u001b[1;33m)\u001b[0m\u001b[1;33m)\u001b[0m\u001b[1;33m\u001b[0m\u001b[1;33m\u001b[0m\u001b[0m\n\u001b[0;32m      9\u001b[0m \u001b[1;33m\u001b[0m\u001b[0m\n\u001b[1;32m---> 10\u001b[1;33m \u001b[0mprint\u001b[0m\u001b[1;33m(\u001b[0m\u001b[0mseq\u001b[0m\u001b[1;33m(\u001b[0m\u001b[0ma\u001b[0m\u001b[1;33m)\u001b[0m\u001b[1;33m)\u001b[0m\u001b[1;33m\u001b[0m\u001b[1;33m\u001b[0m\u001b[0m\n\u001b[0m",
      "\u001b[1;31mNameError\u001b[0m: name 'seq' is not defined"
     ]
    }
   ],
   "source": [
    "# Some of List Built-in Functions: \n",
    "\n",
    "a = [1,2,3,4,5]\n",
    "print(len(a))\n",
    "\n",
    "print(min(a))\n",
    "\n",
    "print(max(a))\n",
    "\n",
    "print(seq(a))"
   ]
  },
  {
   "cell_type": "code",
   "execution_count": 195,
   "id": "e4e034f3",
   "metadata": {},
   "outputs": [
    {
     "name": "stdout",
     "output_type": "stream",
     "text": [
      "[45, 85, 96, 'siva', 25]\n",
      "<built-in method copy of list object at 0x000001F836F91600>\n",
      "[]\n"
     ]
    }
   ],
   "source": [
    "#Some of List Built-in Methods: \n",
    "\n",
    "lst = [45,85,96,'siva']\n",
    "\n",
    "lst.append(25)\n",
    "print(lst)\n",
    "\n",
    "lst.clear()\n",
    "\n",
    "dr = lst.copy\n",
    "print(dr)\n",
    "\n",
    "print(lst)"
   ]
  },
  {
   "cell_type": "code",
   "execution_count": 203,
   "id": "4bde0117",
   "metadata": {},
   "outputs": [
    {
     "name": "stdout",
     "output_type": "stream",
     "text": [
      "[45, 55, 75]\n",
      "[75, 55, 45]\n",
      "[45, 55, 75]\n"
     ]
    }
   ],
   "source": [
    "lst = [45,55,65,75,85]\n",
    "\n",
    "lst.remove(85)\n",
    "del lst[2]\n",
    "print(lst)\n",
    "\n",
    "lst.reverse()\n",
    "\n",
    "print(lst)\n",
    "\n",
    "lst.sort()\n",
    "print(lst)"
   ]
  },
  {
   "cell_type": "code",
   "execution_count": 207,
   "id": "4dcb8ef8",
   "metadata": {},
   "outputs": [
    {
     "name": "stdout",
     "output_type": "stream",
     "text": [
      "[12, 16, 20, 23, 45]\n",
      "45\n",
      "<built-in method count of list object at 0x000001F83709B4C0>\n"
     ]
    }
   ],
   "source": [
    "lst = [20,12,45,23,16]\n",
    "\n",
    "lst.sort()\n",
    "print(lst)\n",
    "\n",
    "print(max(lst))\n",
    "\n",
    "print(list.count)"
   ]
  },
  {
   "cell_type": "code",
   "execution_count": 214,
   "id": "9991ead3",
   "metadata": {},
   "outputs": [
    {
     "name": "stdout",
     "output_type": "stream",
     "text": [
      "<class 'int'>\n",
      "104578\n",
      "<class 'float'>\n",
      "5.8\n",
      "<class 'complex'>\n",
      "(2+3j)\n"
     ]
    }
   ],
   "source": [
    "#Python Number Methods\n",
    "\n",
    "a = 104578\n",
    "print(type(a))\n",
    "print(a)\n",
    "\n",
    "b = 5.8\n",
    "print(type(b))\n",
    "print(b)\n",
    "\n",
    "c = 2+3j\n",
    "print(type(c))\n",
    "print(c)"
   ]
  },
  {
   "cell_type": "code",
   "execution_count": 218,
   "id": "3a431675",
   "metadata": {},
   "outputs": [
    {
     "name": "stdout",
     "output_type": "stream",
     "text": [
      "<class 'int'>\n",
      "10\n",
      "<class 'int'>\n",
      "15\n"
     ]
    }
   ],
   "source": [
    "a = 0b1010\n",
    "\n",
    "print(type(a))\n",
    "print(a)\n",
    "\n",
    "b = 0o17\n",
    "print(type(b))\n",
    "print(b)"
   ]
  },
  {
   "cell_type": "code",
   "execution_count": 223,
   "id": "79cf9959",
   "metadata": {},
   "outputs": [
    {
     "name": "stdout",
     "output_type": "stream",
     "text": [
      "<class 'float'>\n",
      "56.0\n"
     ]
    }
   ],
   "source": [
    "#Python Type Conversions: \n",
    "a = 56 #Interger Data Type converions to other data type\n",
    "\n",
    "result = float(a)\n",
    "print(type(result))\n",
    "print(result)"
   ]
  },
  {
   "cell_type": "code",
   "execution_count": 226,
   "id": "2429d300",
   "metadata": {},
   "outputs": [
    {
     "name": "stdout",
     "output_type": "stream",
     "text": [
      "<class 'complex'>\n",
      "(56+0j)\n"
     ]
    }
   ],
   "source": [
    "b = 56.0\n",
    "\n",
    "result = complex(b)\n",
    "print(type(result))\n",
    "print(result)"
   ]
  },
  {
   "cell_type": "code",
   "execution_count": 228,
   "id": "dd973fe0",
   "metadata": {},
   "outputs": [
    {
     "name": "stdout",
     "output_type": "stream",
     "text": [
      "<class 'float'>\n",
      "8.4\n"
     ]
    }
   ],
   "source": [
    "c = 8.4 #float Data Type\n",
    "\n",
    "result = int(c)\n",
    "print(type(c))\n",
    "print(c)"
   ]
  },
  {
   "cell_type": "code",
   "execution_count": 230,
   "id": "b44b1d66",
   "metadata": {},
   "outputs": [
    {
     "ename": "TypeError",
     "evalue": "can't convert complex to float",
     "output_type": "error",
     "traceback": [
      "\u001b[1;31m---------------------------------------------------------------------------\u001b[0m",
      "\u001b[1;31mTypeError\u001b[0m                                 Traceback (most recent call last)",
      "\u001b[1;32mC:\\Users\\ADMINI~1\\AppData\\Local\\Temp/ipykernel_9804/1711886036.py\u001b[0m in \u001b[0;36m<module>\u001b[1;34m\u001b[0m\n\u001b[0;32m      1\u001b[0m \u001b[0md\u001b[0m \u001b[1;33m=\u001b[0m \u001b[1;36m8\u001b[0m\u001b[1;33m+\u001b[0m\u001b[1;36m0j\u001b[0m \u001b[1;31m#Complex  Data Type\u001b[0m\u001b[1;33m\u001b[0m\u001b[1;33m\u001b[0m\u001b[0m\n\u001b[0;32m      2\u001b[0m \u001b[1;33m\u001b[0m\u001b[0m\n\u001b[1;32m----> 3\u001b[1;33m \u001b[0mresult\u001b[0m \u001b[1;33m=\u001b[0m \u001b[0mfloat\u001b[0m\u001b[1;33m(\u001b[0m\u001b[0md\u001b[0m\u001b[1;33m)\u001b[0m\u001b[1;33m\u001b[0m\u001b[1;33m\u001b[0m\u001b[0m\n\u001b[0m\u001b[0;32m      4\u001b[0m \u001b[0mprint\u001b[0m\u001b[1;33m(\u001b[0m\u001b[0mtype\u001b[0m\u001b[1;33m(\u001b[0m\u001b[0mresult\u001b[0m\u001b[1;33m)\u001b[0m\u001b[1;33m)\u001b[0m\u001b[1;33m\u001b[0m\u001b[1;33m\u001b[0m\u001b[0m\n\u001b[0;32m      5\u001b[0m \u001b[0mprint\u001b[0m\u001b[1;33m(\u001b[0m\u001b[0md\u001b[0m\u001b[1;33m)\u001b[0m\u001b[1;33m\u001b[0m\u001b[1;33m\u001b[0m\u001b[0m\n",
      "\u001b[1;31mTypeError\u001b[0m: can't convert complex to float"
     ]
    }
   ],
   "source": [
    "d = 8+0j #Complex  Data Type\n",
    "\n",
    "result = float(d)\n",
    "print(type(result))\n",
    "print(d)"
   ]
  },
  {
   "cell_type": "code",
   "execution_count": 233,
   "id": "0b0b03d6",
   "metadata": {},
   "outputs": [
    {
     "name": "stdout",
     "output_type": "stream",
     "text": [
      "9\n",
      "5\n"
     ]
    }
   ],
   "source": [
    "a = (5,8,6,7,8,9)\n",
    "\n",
    "print(max(a))\n",
    "\n",
    "print(min(a))"
   ]
  },
  {
   "cell_type": "code",
   "execution_count": 236,
   "id": "c167d4ca",
   "metadata": {},
   "outputs": [
    {
     "name": "stdout",
     "output_type": "stream",
     "text": [
      "9\n"
     ]
    }
   ],
   "source": [
    "print(abs(-9))"
   ]
  },
  {
   "cell_type": "code",
   "execution_count": 243,
   "id": "9fd1b8eb",
   "metadata": {},
   "outputs": [
    {
     "name": "stdout",
     "output_type": "stream",
     "text": [
      "9\n"
     ]
    }
   ],
   "source": [
    "#Ceil Function\n",
    "import math \n",
    "print(math.ceil(8.6))"
   ]
  },
  {
   "cell_type": "code",
   "execution_count": 245,
   "id": "a6c1ba2a",
   "metadata": {},
   "outputs": [
    {
     "name": "stdout",
     "output_type": "stream",
     "text": [
      "5\n"
     ]
    }
   ],
   "source": [
    "#Floor Function\n",
    "import math\n",
    "print(math.floor(5.8))"
   ]
  },
  {
   "cell_type": "code",
   "execution_count": 246,
   "id": "b9dfedcf",
   "metadata": {},
   "outputs": [
    {
     "name": "stdout",
     "output_type": "stream",
     "text": [
      "9\n",
      "5\n"
     ]
    }
   ],
   "source": [
    "#Max Function\n",
    "a = (5,8,6,7,8,9)\n",
    "\n",
    "print(max(a))\n",
    "\n",
    "print(min(a))"
   ]
  },
  {
   "cell_type": "code",
   "execution_count": 247,
   "id": "f3b56ee3",
   "metadata": {},
   "outputs": [
    {
     "name": "stdout",
     "output_type": "stream",
     "text": [
      "8\n"
     ]
    }
   ],
   "source": [
    "print(pow(2,3))"
   ]
  },
  {
   "cell_type": "code",
   "execution_count": 250,
   "id": "f8681e83",
   "metadata": {},
   "outputs": [
    {
     "name": "stdout",
     "output_type": "stream",
     "text": [
      "28.9\n"
     ]
    }
   ],
   "source": [
    "print(round(28.8965742,2))"
   ]
  },
  {
   "cell_type": "code",
   "execution_count": 255,
   "id": "6cd2a66b",
   "metadata": {},
   "outputs": [
    {
     "name": "stdout",
     "output_type": "stream",
     "text": [
      "2.0\n"
     ]
    }
   ],
   "source": [
    "import math\n",
    "print(math.sqrt(4))"
   ]
  },
  {
   "cell_type": "code",
   "execution_count": 259,
   "id": "a6556971",
   "metadata": {},
   "outputs": [
    {
     "name": "stdout",
     "output_type": "stream",
     "text": [
      "<class 'str'>\n",
      "sriram\n",
      "<class 'str'>\n",
      "sriram\n",
      "<class 'str'>\n",
      "sriram\n",
      "<class 'str'>\n",
      "sriram\n"
     ]
    }
   ],
   "source": [
    "#String Data Types # Strings are immutable --> unchanageable \n",
    "\n",
    "name = 'sriram'\n",
    "\n",
    "print(type(name))\n",
    "print(name)\n",
    "\n",
    "name1 = \"sriram\"\n",
    "print(type(name1))\n",
    "print(name1)\n",
    "\n",
    "name2 = '''sriram'''\n",
    "print(type(name2))\n",
    "print(name2)\n",
    "\n",
    "name3 = \"\"\"sriram\"\"\"\n",
    "print(type(name3))\n",
    "print(name3)"
   ]
  },
  {
   "cell_type": "code",
   "execution_count": 261,
   "id": "bbe01d50",
   "metadata": {},
   "outputs": [
    {
     "name": "stdout",
     "output_type": "stream",
     "text": [
      "<class 'str'>\n",
      "PriyaSrinivas\n"
     ]
    }
   ],
   "source": [
    "#Verious Operators in Strings\n",
    "#Concatenation Operator\n",
    "firstname = \"Priya\"\n",
    "lastname = \"Srinivas\"\n",
    "fullname = firstname + lastname\n",
    "\n",
    "print(type(fullname))\n",
    "print(fullname)"
   ]
  },
  {
   "cell_type": "code",
   "execution_count": 263,
   "id": "b0bbc0ff",
   "metadata": {},
   "outputs": [
    {
     "name": "stdout",
     "output_type": "stream",
     "text": [
      "srinivas srinivas srinivas \n",
      "<class 'str'>\n"
     ]
    }
   ],
   "source": [
    "#Repetition Operator\n",
    "name = \"srinivas \"\n",
    "\n",
    "print(name*3)\n",
    "print(type(name))"
   ]
  },
  {
   "cell_type": "code",
   "execution_count": 265,
   "id": "5992c4e8",
   "metadata": {},
   "outputs": [
    {
     "name": "stdout",
     "output_type": "stream",
     "text": [
      "S\n",
      "r\n",
      "i\n",
      "n\n",
      "i\n",
      "v\n",
      "a\n",
      "s\n"
     ]
    }
   ],
   "source": [
    "#Slice Operator\n",
    "name = \"Srinivas\"\n",
    "print(name[0])\n",
    "print(name[1])\n",
    "print(name[2])\n",
    "print(name[3])\n",
    "print(name[4])\n",
    "print(name[5])\n",
    "print(name[6])\n",
    "print(name[7])"
   ]
  },
  {
   "cell_type": "code",
   "execution_count": 268,
   "id": "85a263fc",
   "metadata": {},
   "outputs": [
    {
     "name": "stdout",
     "output_type": "stream",
     "text": [
      "Sri\n",
      "Srini\n",
      "Srinivas\n"
     ]
    }
   ],
   "source": [
    "#Range Slice Operator\n",
    "\n",
    "name = \"Srinivas\"\n",
    "\n",
    "print(name[0:3])\n",
    "print(name[0:5])\n",
    "print(name[0:8])"
   ]
  },
  {
   "cell_type": "code",
   "execution_count": 272,
   "id": "1ae43cc4",
   "metadata": {},
   "outputs": [
    {
     "name": "stdout",
     "output_type": "stream",
     "text": [
      "True\n",
      "True\n",
      "True\n",
      "True\n",
      "True\n",
      "True\n"
     ]
    }
   ],
   "source": [
    "#Membership Operator\n",
    "name = \"Srinivas\"\n",
    "\n",
    "print(\"r\" in name)\n",
    "print(\"S\" in name)\n",
    "print(\"i\" in name)\n",
    "print(\"n\" in name)\n",
    "print(\"a\" in name)\n",
    "print(\"v\" in name)"
   ]
  },
  {
   "cell_type": "code",
   "execution_count": 274,
   "id": "1d9f0b1f",
   "metadata": {},
   "outputs": [
    {
     "name": "stdout",
     "output_type": "stream",
     "text": [
      "False\n",
      "True\n",
      "False\n",
      "False\n"
     ]
    }
   ],
   "source": [
    "##Membership Operator\n",
    "\n",
    "name = \"Srinivas\"\n",
    "\n",
    "print(\"r\" not in name)\n",
    "print(\"b\" not in name)\n",
    "print(\"v\" not in name)\n",
    "print(\"a\" not in name)"
   ]
  },
  {
   "cell_type": "code",
   "execution_count": 283,
   "id": "61bf1df3",
   "metadata": {},
   "outputs": [
    {
     "name": "stdout",
     "output_type": "stream",
     "text": [
      "my name is sriram my age is 9 years my height is 4.5 feet\n",
      "my name is sriram my age is 9 years my height is 4.500000 feet\n",
      "my name is sriram my age is 9 years my height is 4.5 feet\n"
     ]
    }
   ],
   "source": [
    "#String Formatting\n",
    "#Normal String Formating\n",
    "name = \"sriram\"\n",
    "age  = 9\n",
    "height = 4.5\n",
    "print(\"my name is\",name,\"my age is\",age,\"years\", \"my height is\",height,\"feet\")\n",
    "print(\"my name is %s my age is %d years my height is %f feet\" %(name,age,height))\n",
    "print(\"my name is {} my age is {} years my height is {} feet\".format(name,age,height))"
   ]
  },
  {
   "cell_type": "code",
   "execution_count": 291,
   "id": "869b33a0",
   "metadata": {},
   "outputs": [
    {
     "name": "stdout",
     "output_type": "stream",
     "text": [
      "0\n",
      "1\n",
      "2\n",
      "1\n",
      "4\n",
      "5\n"
     ]
    }
   ],
   "source": [
    "#Strings methods \n",
    "#Find method\n",
    "name = \"sriram\"\n",
    "print(name.find('s'))\n",
    "print(name.find('r'))\n",
    "print(name.find('i'))\n",
    "print(name.find('r'))\n",
    "print(name.find('a'))\n",
    "print(name.find('m'))"
   ]
  },
  {
   "cell_type": "code",
   "execution_count": 292,
   "id": "7530e3fe",
   "metadata": {},
   "outputs": [
    {
     "name": "stdout",
     "output_type": "stream",
     "text": [
      "6\n"
     ]
    }
   ],
   "source": [
    "#Len method\n",
    "name = \"Sriram\"\n",
    "\n",
    "print(len(name))"
   ]
  },
  {
   "cell_type": "code",
   "execution_count": 293,
   "id": "dac10088",
   "metadata": {},
   "outputs": [
    {
     "name": "stdout",
     "output_type": "stream",
     "text": [
      "sriram\n"
     ]
    }
   ],
   "source": [
    "#Lower()\n",
    "name = \"SRIRAM\"\n",
    "\n",
    "print(name.lower())"
   ]
  },
  {
   "cell_type": "code",
   "execution_count": 294,
   "id": "80904faa",
   "metadata": {},
   "outputs": [
    {
     "name": "stdout",
     "output_type": "stream",
     "text": [
      "SRIRAM\n"
     ]
    }
   ],
   "source": [
    "#Upper()\n",
    "name = \"sriram\"\n",
    "\n",
    "print(name.upper())"
   ]
  },
  {
   "cell_type": "code",
   "execution_count": 296,
   "id": "384b63e5",
   "metadata": {},
   "outputs": [
    {
     "name": "stdout",
     "output_type": "stream",
     "text": [
      "      sriram\n",
      "sriram\n"
     ]
    }
   ],
   "source": [
    "#lstrip method\n",
    "name = \"      sriram\"\n",
    "print(name)\n",
    "print(name.lstrip())"
   ]
  },
  {
   "cell_type": "code",
   "execution_count": 300,
   "id": "62d23cf3",
   "metadata": {},
   "outputs": [
    {
     "name": "stdout",
     "output_type": "stream",
     "text": [
      "Srinivas\n"
     ]
    }
   ],
   "source": [
    "#replace(old,new) method\n",
    "name = \"sriram\"\n",
    "print(name.replace(name,\"Srinivas\"))"
   ]
  },
  {
   "cell_type": "code",
   "execution_count": 305,
   "id": "cb34bf8b",
   "metadata": {},
   "outputs": [
    {
     "name": "stdout",
     "output_type": "stream",
     "text": [
      "['c', 'is', 'good', 'programming', 'language']\n"
     ]
    }
   ],
   "source": [
    "#split() method\n",
    "name = \"c is good programming language\"\n",
    "print(name.split())"
   ]
  },
  {
   "cell_type": "code",
   "execution_count": 306,
   "id": "ca15135b",
   "metadata": {},
   "outputs": [
    {
     "name": "stdout",
     "output_type": "stream",
     "text": [
      "c IS GOOD PROGRAMMING LANGUAGE\n"
     ]
    }
   ],
   "source": [
    "#Swapcase Method \n",
    "name = \"C is good programming language\"\n",
    "print(name.swapcase())"
   ]
  },
  {
   "cell_type": "code",
   "execution_count": 313,
   "id": "acae65ad",
   "metadata": {},
   "outputs": [
    {
     "name": "stdout",
     "output_type": "stream",
     "text": [
      "<class 'list'>\n",
      "[56, 87, 41, 25]\n",
      "['sriram', 50, 6.3]\n"
     ]
    }
   ],
   "source": [
    "#List Data Type\n",
    "\n",
    "list = [56,87,41,25]\n",
    "list1 = [\"sriram\",50,6.3]\n",
    "print(type(list))\n",
    "print(list)\n",
    "print(list1)"
   ]
  },
  {
   "cell_type": "code",
   "execution_count": 315,
   "id": "1e19de4d",
   "metadata": {},
   "outputs": [
    {
     "name": "stdout",
     "output_type": "stream",
     "text": [
      "<class 'list'>\n",
      "56\n",
      "87\n",
      "41\n",
      "25\n"
     ]
    }
   ],
   "source": [
    "#List Indexing \"[]\"\n",
    "list = [56,87,41,25]\n",
    "print(type(list))\n",
    "\n",
    "print(list[0])\n",
    "print(list[1])\n",
    "print(list[2])\n",
    "print(list[3])"
   ]
  },
  {
   "cell_type": "code",
   "execution_count": 322,
   "id": "116775d3",
   "metadata": {},
   "outputs": [
    {
     "name": "stdout",
     "output_type": "stream",
     "text": [
      "[56, 87]\n",
      "[56, 87, 41]\n",
      "[56, 87, 41, 25]\n",
      "[56, 87, 41, 25, 89]\n",
      "[56, 87, 41, 25, 89, 52]\n",
      "[56, 87, 41, 25, 89]\n"
     ]
    }
   ],
   "source": [
    "#List Slicing \"[:]\"\n",
    "\n",
    "list = [56,87,41,25,89,52]\n",
    "print(list[0:2])\n",
    "print(list[0:3])\n",
    "print(list[0:4])\n",
    "print(list[0:5])\n",
    "print(list[0:6])\n",
    "print(list[:-1])"
   ]
  },
  {
   "cell_type": "code",
   "execution_count": 325,
   "id": "9fc1c570",
   "metadata": {},
   "outputs": [
    {
     "name": "stdout",
     "output_type": "stream",
     "text": [
      "[75, 85, 35, 48, 96, 52]\n",
      "[75, 85, 99, 48, 96, 52]\n"
     ]
    }
   ],
   "source": [
    "#Inserting Data into List:\n",
    "list = [75,85,35,48,96,52]\n",
    "print(list)\n",
    "list[2] = 99\n",
    "print(list)"
   ]
  },
  {
   "cell_type": "code",
   "execution_count": 326,
   "id": "c587790f",
   "metadata": {},
   "outputs": [
    {
     "name": "stdout",
     "output_type": "stream",
     "text": [
      "[75, 85, 35, 96, 52]\n"
     ]
    }
   ],
   "source": [
    "#Deleting Data from list\n",
    "list = [75,85,35,48,96,52]\n",
    "del list[3]\n",
    "print(list)"
   ]
  },
  {
   "cell_type": "code",
   "execution_count": 328,
   "id": "9ac9051b",
   "metadata": {},
   "outputs": [
    {
     "name": "stdout",
     "output_type": "stream",
     "text": [
      "[1, 2, 3, 4, 5, 1, 2, 3, 4, 5]\n"
     ]
    }
   ],
   "source": [
    "#List Methods \n",
    "list = [1,2,3,4,5]\n",
    "print(list*2)"
   ]
  },
  {
   "cell_type": "code",
   "execution_count": 329,
   "id": "6bb60527",
   "metadata": {},
   "outputs": [
    {
     "name": "stdout",
     "output_type": "stream",
     "text": [
      "[1, 2, 3, 4, 5, 6, 7, 8, 9, 10]\n"
     ]
    }
   ],
   "source": [
    "a = [1,2,3,4,5]\n",
    "b = [6,7,8,9,10]\n",
    "print(a+b)"
   ]
  },
  {
   "cell_type": "code",
   "execution_count": 331,
   "id": "58cd1045",
   "metadata": {},
   "outputs": [
    {
     "name": "stdout",
     "output_type": "stream",
     "text": [
      "True\n",
      "False\n"
     ]
    }
   ],
   "source": [
    "print(2 in a)\n",
    "\n",
    "print(2 not in a)"
   ]
  },
  {
   "cell_type": "code",
   "execution_count": 332,
   "id": "fcce5efa",
   "metadata": {},
   "outputs": [
    {
     "name": "stdout",
     "output_type": "stream",
     "text": [
      "1\n",
      "2\n",
      "3\n",
      "4\n",
      "5\n"
     ]
    }
   ],
   "source": [
    "for i in a:\n",
    "    print(i)"
   ]
  },
  {
   "cell_type": "code",
   "execution_count": 333,
   "id": "af65bf38",
   "metadata": {},
   "outputs": [
    {
     "data": {
      "text/plain": [
       "5"
      ]
     },
     "execution_count": 333,
     "metadata": {},
     "output_type": "execute_result"
    }
   ],
   "source": [
    "len(a)"
   ]
  },
  {
   "cell_type": "code",
   "execution_count": 336,
   "id": "406246bd",
   "metadata": {},
   "outputs": [
    {
     "name": "stdout",
     "output_type": "stream",
     "text": [
      "(5, 7, 2, 9)\n",
      "('krishna', 25, 6.8)\n",
      "<class 'tuple'>\n"
     ]
    }
   ],
   "source": [
    "#Tuple Data Methods\n",
    "\n",
    "tuple = (5,7,2,9)\n",
    "tuple1 = ('krishna',25,6.8)\n",
    "print(tuple)\n",
    "print(tuple1)\n",
    "print(type(tuple1))"
   ]
  },
  {
   "cell_type": "code",
   "execution_count": 338,
   "id": "229a29df",
   "metadata": {},
   "outputs": [
    {
     "name": "stdout",
     "output_type": "stream",
     "text": [
      "krishna\n",
      "25\n",
      "6.8\n"
     ]
    }
   ],
   "source": [
    "#Tuple Indexing \"[]\"\n",
    "\n",
    "tuple = ('krishna',25,6.8)\n",
    "print(tuple[0])\n",
    "print(tuple[1])\n",
    "print(tuple[2])"
   ]
  },
  {
   "cell_type": "code",
   "execution_count": 341,
   "id": "2888ad3e",
   "metadata": {},
   "outputs": [
    {
     "name": "stdout",
     "output_type": "stream",
     "text": [
      "('krishna', 25, 6.8)\n",
      "(5, 8, 7)\n",
      "('krishna', 25, 6.8, 5, 8, 7)\n"
     ]
    }
   ],
   "source": [
    "#Tuple Slicing \"[:]\"\n",
    "tuple = (\"krishna\",25,6.8,5,8,7)\n",
    "print(tuple[0:3])\n",
    "print(tuple[3:6])\n",
    "print(tuple[:])"
   ]
  },
  {
   "cell_type": "code",
   "execution_count": 346,
   "id": "1bc2ac1a",
   "metadata": {},
   "outputs": [
    {
     "name": "stdout",
     "output_type": "stream",
     "text": [
      "<class 'dict'>\n",
      "{'name': 'krishna', 'age': 25, 'salary': 40000, 'company': 'microsoft'}\n",
      "dict_keys(['name', 'age', 'salary', 'company'])\n",
      "dict_values(['krishna', 25, 40000, 'microsoft'])\n"
     ]
    }
   ],
   "source": [
    "#Dictionary Data Type\n",
    "\n",
    "dt = {'name':'krishna','age':25,'salary':40000,\"company\":'microsoft'}\n",
    "print(type(dt))\n",
    "print(dt)\n",
    "print(dt.keys())\n",
    "print(dt.values())"
   ]
  },
  {
   "cell_type": "code",
   "execution_count": 348,
   "id": "c09e1c14",
   "metadata": {},
   "outputs": [
    {
     "name": "stdout",
     "output_type": "stream",
     "text": [
      "krishna\n",
      "25\n",
      "40000\n",
      "microsoft\n"
     ]
    }
   ],
   "source": [
    "#Accessing Dictionary Data \"[]\":\n",
    "print(dt['name'])\n",
    "print(dt['age'])\n",
    "print(dt['salary'])\n",
    "print(dt['company'])"
   ]
  },
  {
   "cell_type": "code",
   "execution_count": 354,
   "id": "50cb5e5f",
   "metadata": {},
   "outputs": [
    {
     "name": "stdout",
     "output_type": "stream",
     "text": [
      "{'name': 'Srinivas', 'age': 27, 'salary': 85000, 'company': 'Amazon'}\n",
      "<class 'dict'>\n"
     ]
    }
   ],
   "source": [
    "#Updating Dictionary Data: \n",
    "dt['name'] = \"Srinivas\"\n",
    "dt['age'] = 27\n",
    "dt['salary'] = 85000\n",
    "dt['company']= \"Amazon\"\n",
    "print(dt)\n",
    "print(type(dt))"
   ]
  },
  {
   "cell_type": "code",
   "execution_count": 360,
   "id": "64cbf1f3",
   "metadata": {},
   "outputs": [
    {
     "name": "stdout",
     "output_type": "stream",
     "text": [
      "{'name': 'Srinivas', 'age': 27, 'salary': 85000, 'company': 'Amazon'}\n",
      "name\n",
      "age\n",
      "salary\n",
      "company\n"
     ]
    }
   ],
   "source": [
    "print(dt)\n",
    "for i in dt:\n",
    "    print(i)"
   ]
  },
  {
   "cell_type": "code",
   "execution_count": 369,
   "id": "378cf936",
   "metadata": {},
   "outputs": [
    {
     "name": "stdout",
     "output_type": "stream",
     "text": [
      "{'name': 'Srinivas', 'age': 27, 'salary': 85000, 'company': 'Amazon'}\n",
      "('name', 'Srinivas')\n",
      "('age', 27)\n",
      "('salary', 85000)\n",
      "('company', 'Amazon')\n",
      "name\n",
      "age\n",
      "salary\n",
      "company\n",
      "Srinivas\n",
      "27\n",
      "85000\n",
      "Amazon\n",
      "name\n",
      "age\n",
      "salary\n",
      "company\n",
      "name Srinivas\n",
      "age 27\n",
      "salary 85000\n",
      "company Amazon\n"
     ]
    }
   ],
   "source": [
    "dt = {'name':'Srinivas','age':27,'salary':85000,'company':'Amazon'}\n",
    "print(dt)\n",
    "\n",
    "for i in dt.items():\n",
    "    print(i)\n",
    "\n",
    "for i in dt:\n",
    "    print(i)\n",
    "    \n",
    "for i in dt.values():\n",
    "    print(i)\n",
    "    \n",
    "for i in dt:\n",
    "    print(i)\n",
    "\n",
    "for i,j in dt.items():\n",
    "    print(i,j)"
   ]
  },
  {
   "cell_type": "code",
   "execution_count": 380,
   "id": "ae7cc6ed",
   "metadata": {},
   "outputs": [
    {
     "name": "stdout",
     "output_type": "stream",
     "text": [
      "<class 'set'>\n",
      "{'Sun', 'Fri', 'mon', 'Tue', 'Sat', 'Wed', 'Thu'}\n",
      "Sun\n",
      "Fri\n",
      "mon\n",
      "Tue\n",
      "Sat\n",
      "Wed\n",
      "Thu\n"
     ]
    }
   ],
   "source": [
    "#Python Set Methods;\n",
    "\n",
    "Days = {\"mon\",\"Tue\",\"Wed\",\"Thu\",\"Fri\",\"Sat\",\"Sun\"}\n",
    "\n",
    "print(type(Days))\n",
    "print(Days)\n",
    "\n",
    "for i in Days:\n",
    "    print(i)"
   ]
  },
  {
   "cell_type": "code",
   "execution_count": 384,
   "id": "494a9917",
   "metadata": {},
   "outputs": [
    {
     "name": "stdout",
     "output_type": "stream",
     "text": [
      "{'May', 'Feb', 'Jun', 'Apr', 'jan', 'Mar'}\n",
      "{'May', 'Feb', 'Jun', 'Apr', 'july', 'jan', 'Mar'}\n",
      "{'May', 'Feb', 'Jun', 'Apr', 'july', 'August', 'jan', 'Mar'}\n"
     ]
    }
   ],
   "source": [
    "#Adding Set Data:\n",
    "months = {\"jan\",\"Feb\",\"Mar\",\"Apr\",\"May\",\"Jun\"}\n",
    "print(months)\n",
    "\n",
    "months.add(\"july\")\n",
    "print(months)\n",
    "\n",
    "months.add(\"August\")\n",
    "print(months)"
   ]
  },
  {
   "cell_type": "code",
   "execution_count": 394,
   "id": "644cf57f",
   "metadata": {},
   "outputs": [
    {
     "name": "stdout",
     "output_type": "stream",
     "text": [
      "{'May', 'Feb', 'Jun', 'sep', 'Apr', 'july', 'August', 'jan', 'Oct', 'Dec', 'Mar', 'Nov', 'Non'}\n",
      "{'May', 'Feb', 'Jun', 'sep', 'Apr', 'july', 'August', 'jan', 'Oct', 'Dec', 'Mar'}\n"
     ]
    }
   ],
   "source": [
    "#Adding more than one value to set data:\n",
    "\n",
    "months.update([\"sep\",\"Oct\",\"Nov\",\"Dec\"])\n",
    "print(months)\n",
    "\n",
    "#Removing Set Data:\n",
    "months.remove(\"Nov\")\n",
    "months.remove(\"Non\")\n",
    "print(months)"
   ]
  },
  {
   "cell_type": "code",
   "execution_count": 396,
   "id": "20906734",
   "metadata": {},
   "outputs": [
    {
     "name": "stdout",
     "output_type": "stream",
     "text": [
      "{'May', 'Feb', 'Jun', 'sep', 'Apr', 'july', 'August', 'jan', 'Oct', 'Dec', 'Mar'}\n"
     ]
    }
   ],
   "source": [
    "print(months)"
   ]
  },
  {
   "cell_type": "code",
   "execution_count": 399,
   "id": "9618cc2a",
   "metadata": {},
   "outputs": [
    {
     "name": "stdout",
     "output_type": "stream",
     "text": [
      "{'sat', 'sun', 'Mon', 'Tue', 'fri', 'Wed', 'Thu'}\n",
      "{'sat', 'sun', 'Mon', 'Tue', 'fri', 'Wed', 'Thu'}\n"
     ]
    }
   ],
   "source": [
    "#Union of sets:\n",
    "days1 = {\"Mon\",\"Tue\",\"Wed\",\"Thu\"}\n",
    "days2 = {\"fri\",\"sat\",\"sun\"}\n",
    "\n",
    "print(days1 | days2)\n",
    "print(days1.union(days2))"
   ]
  },
  {
   "cell_type": "code",
   "execution_count": 403,
   "id": "86271b9d",
   "metadata": {},
   "outputs": [
    {
     "name": "stdout",
     "output_type": "stream",
     "text": [
      "{'Martin', 'David'}\n",
      "{'Martin', 'David'}\n"
     ]
    }
   ],
   "source": [
    "#Intersection of Sets:\n",
    "set1 = {\"ayush\",\"John\",\"David\",\"Martin\"}\n",
    "set2 = {\"Steve\",\"Milan\",\"David\",\"Martin\"}\n",
    "\n",
    "print(set1 & set2)  #using and \"&\" Operator\n",
    "print(set1.intersection(set2))  #Using intersection method\n",
    "\n",
    "#Set() is used for type conversion\n",
    "a = [1,2,3,4,5]\n",
    "set(a)\n",
    "\n",
    "#Forzenset() --> is immutable set\n",
    "\n",
    "b = frozenset(a)"
   ]
  },
  {
   "cell_type": "code",
   "execution_count": null,
   "id": "0a00507c",
   "metadata": {},
   "outputs": [],
   "source": [
    "#Write a program to calculate the result of (a+b)*(a-b) [Number Data Type]\n",
    "# 1. Find the result of (a+b)*(a-b)\n",
    "#2. Algorithm:\n",
    "#Define two variable a,b and assign 2 values to each variable\n",
    "#add a&b and store result in variable x\n",
    "#subtract b from a and store result in variable y\n",
    "#multiply x*y and store result in variable\"result\n",
    "#print the \"result\" variable\n",
    "#task complete\n",
    "#Coding:\n",
    "# a = 8\n",
    "# b = 2\n",
    "# x = (a+b)\n",
    "# y = (a-b)\n",
    "# result = x *y\n",
    "# print(result)"
   ]
  },
  {
   "cell_type": "code",
   "execution_count": 404,
   "id": "0f6119b6",
   "metadata": {},
   "outputs": [
    {
     "name": "stdout",
     "output_type": "stream",
     "text": [
      "60\n"
     ]
    }
   ],
   "source": [
    "a = 8\n",
    "b = 2\n",
    "x = (a+b)\n",
    "y = (a-b)\n",
    "result = x*y\n",
    "print(result)"
   ]
  },
  {
   "cell_type": "code",
   "execution_count": null,
   "id": "7ed60db4",
   "metadata": {},
   "outputs": [],
   "source": [
    "# Write a program to concatenate two strings first name & lastname [ String Data Type]\n",
    "# 1. Concatenate two strings firstname and lastname\n",
    "# Algorithm:\n",
    "# Step 1. Define two variable firstname, lastname and assign 2 strings to each variable\n",
    "# Step 2. Concatenate two strings using \"+\" and store result in variable fullname\n",
    "# Step 3. Print(fullname)\n",
    "# Coding:\n",
    "# firstname = \"srinivas\"\n",
    "# lastname = \"narmatha\"\n",
    "# fullname = firstname + lastname\n",
    "# print(fullname)\n",
    "\n",
    "# Execute the code\n",
    "# Debug if error comes, debug the code\n",
    "# Production : Deploy the program into production\n"
   ]
  },
  {
   "cell_type": "code",
   "execution_count": 408,
   "id": "7a5320f2",
   "metadata": {},
   "outputs": [
    {
     "name": "stdout",
     "output_type": "stream",
     "text": [
      "SrinivasNarmatha\n"
     ]
    }
   ],
   "source": [
    "# Write a program to concatenate two strings first name & lastname [ String Data Type]\n",
    "firstname = \"Srinivas\"\n",
    "lastname = \"Narmatha\"\n",
    "fullname = firstname + lastname\n",
    "print(fullname)"
   ]
  },
  {
   "cell_type": "code",
   "execution_count": null,
   "id": "c0f61d01",
   "metadata": {},
   "outputs": [],
   "source": [
    "# Write a program to repeat exiting list elements by 2 times [ List Data Type]\n",
    "# 1. Tesk: Repetition of list elements by 2 \n",
    "# 2. Algorithm: \n",
    "# 1. Define a list with some data elements and store in a variable \"lst\"\n",
    "# 2. use \"*\" to repeat the elements in lst by 2 (lst\"*) and store result in variable \"result\"\n",
    "# 3. print(result)\n",
    "\n",
    "# Coding: \n",
    "# lst = [7,8,9]\n",
    "# Result = lst*2\n",
    "# print(result)\n",
    "\n",
    "#Execute: execute the code\n",
    "# Debug : if error comes, debug the code\n",
    "# Production: Deploy the program into production\n",
    "\n"
   ]
  },
  {
   "cell_type": "code",
   "execution_count": 410,
   "id": "977c9de3",
   "metadata": {},
   "outputs": [
    {
     "name": "stdout",
     "output_type": "stream",
     "text": [
      "[7, 8, 9, 7, 8, 9, 7, 8, 9]\n"
     ]
    }
   ],
   "source": [
    "list = [7,8,9]\n",
    "result = list*3\n",
    "print(result)"
   ]
  },
  {
   "cell_type": "code",
   "execution_count": 411,
   "id": "e4d228e5",
   "metadata": {},
   "outputs": [
    {
     "name": "stdout",
     "output_type": "stream",
     "text": [
      "4\n",
      "5\n",
      "6\n",
      "7\n",
      "8\n",
      "9\n"
     ]
    }
   ],
   "source": [
    "# Write a program to display tuple elements using indexing [ Tuple Data Type]\n",
    "\n",
    "tuple = (4,5,6,7,8,9)\n",
    "print(tuple[0])\n",
    "print(tuple[1])\n",
    "print(tuple[2])\n",
    "print(tuple[3])\n",
    "print(tuple[4])\n",
    "print(tuple[5])"
   ]
  },
  {
   "cell_type": "code",
   "execution_count": 415,
   "id": "511996b4",
   "metadata": {},
   "outputs": [
    {
     "name": "stdout",
     "output_type": "stream",
     "text": [
      "apple\n",
      "red\n",
      "dict_keys(['fruit', 'color'])\n",
      "dict_values(['apple', 'red'])\n",
      "dict_items([('fruit', 'apple'), ('color', 'red')])\n"
     ]
    }
   ],
   "source": [
    "# Write a program to display Dict elements using indexing [ Dictionary Data Type]\n",
    "# 1 . Display of dictionary elements using key indexing\n",
    "\n",
    "Dict = {\"fruit\":\"apple\",\"color\":\"red\"}\n",
    "print(Dict[\"fruit\"])\n",
    "print(Dict[\"color\"])\n",
    "print(Dict.keys())\n",
    "print(Dict.values())\n",
    "print(Dict.items())"
   ]
  },
  {
   "cell_type": "code",
   "execution_count": 425,
   "id": "748cf61c",
   "metadata": {},
   "outputs": [
    {
     "name": "stdout",
     "output_type": "stream",
     "text": [
      "enter the Number :14\n",
      "number is even\n",
      "Hello\n",
      "How are you\n"
     ]
    }
   ],
   "source": [
    "#Python Decision Making Statements\n",
    "# If Statement\n",
    "\n",
    "# Write a program to find the even number\n",
    "\n",
    "num = int(input(\"enter the Number :\"))\n",
    "if num % 2 == 0:\n",
    "    print(\"number is even\")\n",
    "else:\n",
    "    print(\"number is odd\")\n",
    "print(\"Hello\")\n",
    "print(\"How are you\")"
   ]
  },
  {
   "cell_type": "code",
   "execution_count": 428,
   "id": "b091ffb5",
   "metadata": {},
   "outputs": [
    {
     "name": "stdout",
     "output_type": "stream",
     "text": [
      "Enter first number35\n",
      "Enter second number45\n",
      "Enter third number55\n",
      "largest number is: 55\n",
      "this is code section will always execute irrespective of if condition\n"
     ]
    }
   ],
   "source": [
    "# Write a program to find largest number among 3 given numbers \n",
    "\n",
    "num1 = int(input(\"Enter first number\"))\n",
    "num2 = int(input(\"Enter second number\"))\n",
    "num3 = int(input(\"Enter third number\"))\n",
    "\n",
    "if ((num1 > num2) and (num1 > num3)):\n",
    "    print(\"largest number is:\",num1)\n",
    "if ((num2 > num1) and (num2 > num3)):\n",
    "    print(\"largest number is:\",num2)\n",
    "if ((num3 > num1) and (num3 > num2)):\n",
    "    print(\"largest number is:\",num3)\n",
    "print(\"this is code section will always execute irrespective of if condition\")"
   ]
  },
  {
   "cell_type": "code",
   "execution_count": 435,
   "id": "d72df924",
   "metadata": {},
   "outputs": [
    {
     "name": "stdout",
     "output_type": "stream",
     "text": [
      "enter your age:19\n",
      "your are eligible to cast the vote\n"
     ]
    }
   ],
   "source": [
    "# Write a program to check whether a person is eligible to vote or not\n",
    "\n",
    "age = int(input(\"enter your age:\"))\n",
    "if (age>= 18):\n",
    "    print(\"your are eligible to cast the vote\")\n",
    "else: \n",
    "    print(\"your are not eligible to cast the vote\")"
   ]
  },
  {
   "cell_type": "code",
   "execution_count": 437,
   "id": "3c3e03f1",
   "metadata": {},
   "outputs": [
    {
     "name": "stdout",
     "output_type": "stream",
     "text": [
      "Enter the number:3\n",
      "Given number is Odd\n"
     ]
    }
   ],
   "source": [
    "# Write a program to check whether a number is even or not\n",
    "\n",
    "num = int(input(\"Enter the number:\"))\n",
    "if num%2 == 0:\n",
    "    print(\"given number is Even\")\n",
    "else:\n",
    "    print(\"Given number is Odd\")"
   ]
  },
  {
   "cell_type": "code",
   "execution_count": 439,
   "id": "c025c5e2",
   "metadata": {},
   "outputs": [
    {
     "name": "stdout",
     "output_type": "stream",
     "text": [
      "Enter the marks34\n",
      "Fail\n"
     ]
    }
   ],
   "source": [
    "# Write a program to find grade of student in exams\n",
    "\n",
    "marks = int(input(\"Enter the marks\"))\n",
    "if (marks > 85 and marks <= 100):\n",
    "    print(\"A-Grade\")\n",
    "elif (marks > 60 and marks <= 85):\n",
    "    print(\"B-Grade\")\n",
    "elif (marks > 35 and marks <= 60):\n",
    "    print(\"C-Grade\")\n",
    "else:\n",
    "    print(\"Fail\")"
   ]
  },
  {
   "cell_type": "code",
   "execution_count": null,
   "id": "17a4d3f9",
   "metadata": {},
   "outputs": [],
   "source": [
    "# Python FOR Loop\n",
    "\n",
    "for i in range(1,101):\n",
    "    print(i)"
   ]
  },
  {
   "cell_type": "code",
   "execution_count": 443,
   "id": "8199558b",
   "metadata": {},
   "outputs": [
    {
     "name": "stdout",
     "output_type": "stream",
     "text": [
      "5\n",
      "8.6\n",
      "6\n",
      "siva\n",
      "2\n",
      "4\n"
     ]
    }
   ],
   "source": [
    "# Write a program to print elements of a list\n",
    "\n",
    "list = [5,8.6,6,\"siva\",2,4]\n",
    "\n",
    "for i in list:\n",
    "    print(i)"
   ]
  },
  {
   "cell_type": "code",
   "execution_count": 444,
   "id": "fcb98399",
   "metadata": {},
   "outputs": [
    {
     "name": "stdout",
     "output_type": "stream",
     "text": [
      "5\n",
      "8.6\n",
      "6\n",
      "siva\n",
      "2\n",
      "4\n"
     ]
    }
   ],
   "source": [
    "# Write a Program to print elements of a Tuple.\n",
    "\n",
    "Tuple = (5,8.6,6,\"siva\",2,4)\n",
    "\n",
    "for i in Tuple:\n",
    "    print(i)"
   ]
  },
  {
   "cell_type": "code",
   "execution_count": 448,
   "id": "93220ec9",
   "metadata": {},
   "outputs": [
    {
     "name": "stdout",
     "output_type": "stream",
     "text": [
      "name\n",
      "age\n",
      "school\n",
      "ground\n",
      "Srinivas\n",
      "5\n",
      "study\n",
      "playing\n",
      "('name', 'Srinivas')\n",
      "('age', 5)\n",
      "('school', 'study')\n",
      "('ground', 'playing')\n",
      "name Srinivas\n",
      "age 5\n",
      "school study\n",
      "ground playing\n"
     ]
    }
   ],
   "source": [
    "# Write a program to print elements of a dictionary\n",
    "dct = {'name':'Srinivas','age':5,'school':'study','ground':'playing'}\n",
    "\n",
    "for i in dct:\n",
    "    print(i)\n",
    "    \n",
    "for i in dct.values():\n",
    "    print(i)\n",
    "    \n",
    "for i in dct.items():\n",
    "    print(i)\n",
    "    \n",
    "for i,j in dct.items():\n",
    "    print(i,j)"
   ]
  },
  {
   "cell_type": "code",
   "execution_count": 1,
   "id": "d26f80ff",
   "metadata": {},
   "outputs": [
    {
     "name": "stdout",
     "output_type": "stream",
     "text": [
      "enter the number:5\n",
      "5X1 = 5\n",
      "5X2 = 10\n",
      "5X3 = 15\n",
      "5X4 = 20\n",
      "5X5 = 25\n",
      "5X6 = 30\n",
      "5X7 = 35\n",
      "5X8 = 40\n",
      "5X9 = 45\n",
      "5X10 = 50\n"
     ]
    }
   ],
   "source": [
    "# Write a program to print Multiplication table\n",
    "\n",
    "num = int(input(\"enter the number:\"))\n",
    "for i in range(1,11):\n",
    "    print(\"{}X{} = {}\".format(num,i,num*i))"
   ]
  },
  {
   "cell_type": "code",
   "execution_count": null,
   "id": "2b75ca70",
   "metadata": {},
   "outputs": [],
   "source": [
    "#While Loop\n",
    "\n",
    "# Write a program to print numebrs from 1 to 100\n",
    "\n",
    "i = 1\n",
    "while (i<=100):\n",
    "    print(i)\n",
    "    i = i +1"
   ]
  },
  {
   "cell_type": "code",
   "execution_count": 5,
   "id": "ba24bda6",
   "metadata": {},
   "outputs": [
    {
     "name": "stdout",
     "output_type": "stream",
     "text": [
      "Enter a number:2\n",
      "2X1 =2\n",
      "2X2 =4\n",
      "2X3 =6\n",
      "2X4 =8\n",
      "2X5 =10\n",
      "2X6 =12\n",
      "2X7 =14\n",
      "2X8 =16\n",
      "2X9 =18\n",
      "2X10 =20\n",
      "task is completed\n"
     ]
    }
   ],
   "source": [
    "#Write a program to print multiplication table\n",
    "num = int(input(\"Enter a number:\"))\n",
    "i = 1 \n",
    "while (i<=10):\n",
    "    print(\"{}X{} ={}\".format(num,i,num*i))\n",
    "    i = i +1\n",
    "print(\"task is completed\")"
   ]
  },
  {
   "cell_type": "code",
   "execution_count": null,
   "id": "09528346",
   "metadata": {},
   "outputs": [],
   "source": [
    "while(1): #Infinate loop\n",
    "    print(\"Hello\")"
   ]
  },
  {
   "cell_type": "code",
   "execution_count": null,
   "id": "fcea4923",
   "metadata": {},
   "outputs": [],
   "source": [
    "while(True):\n",
    "    name = input(\"Enter your name :\\n\")\n",
    "    print(\"Hello\",name)"
   ]
  },
  {
   "cell_type": "code",
   "execution_count": 7,
   "id": "7eec5621",
   "metadata": {},
   "outputs": [
    {
     "name": "stdout",
     "output_type": "stream",
     "text": [
      "1\n",
      "2\n",
      "3\n",
      "4\n",
      "came out of for loop\n"
     ]
    }
   ],
   "source": [
    "#Python Break Statement:\n",
    "\n",
    "for i in range(1,11):\n",
    "    if(i==5):\n",
    "        break\n",
    "    print(i)\n",
    "print(\"came out of for loop\")"
   ]
  },
  {
   "cell_type": "code",
   "execution_count": 9,
   "id": "cff5497d",
   "metadata": {},
   "outputs": [
    {
     "name": "stdout",
     "output_type": "stream",
     "text": [
      "k\n",
      "r\n",
      "i\n",
      "s\n",
      "h\n",
      "came out of for loop\n"
     ]
    }
   ],
   "source": [
    "name = \"krishna\"\n",
    "for i in name:\n",
    "    if(i == \"n\"):\n",
    "        break\n",
    "    print(i)\n",
    "print(\"came out of for loop\")"
   ]
  },
  {
   "cell_type": "code",
   "execution_count": 10,
   "id": "869b6cd2",
   "metadata": {},
   "outputs": [
    {
     "name": "stdout",
     "output_type": "stream",
     "text": [
      "1\n",
      "2\n",
      "3\n",
      "4\n",
      "6\n",
      "7\n",
      "8\n",
      "9\n",
      "10\n",
      "main line statement\n"
     ]
    }
   ],
   "source": [
    "# Python Continue Statement\n",
    "\n",
    "for i in range(1,11):\n",
    "    if(i==5):\n",
    "        continue\n",
    "    print(i)\n",
    "print(\"main line statement\")"
   ]
  },
  {
   "cell_type": "code",
   "execution_count": 11,
   "id": "fc29ee73",
   "metadata": {},
   "outputs": [
    {
     "name": "stdout",
     "output_type": "stream",
     "text": [
      "k\n",
      "r\n",
      "i\n",
      "s\n",
      "h\n",
      "a\n",
      "main line statement\n"
     ]
    }
   ],
   "source": [
    "name = \"krishna\"\n",
    "for i in name:\n",
    "    if(i == \"n\"):\n",
    "        continue\n",
    "    print(i)\n",
    "print(\"main line statement\")"
   ]
  },
  {
   "cell_type": "code",
   "execution_count": 1,
   "id": "f29d4f7f",
   "metadata": {},
   "outputs": [],
   "source": [
    "#Python Pass Statement\n",
    "\n",
    "for i in range(1,100):\n",
    "    pass"
   ]
  },
  {
   "cell_type": "code",
   "execution_count": 3,
   "id": "c7018e4f",
   "metadata": {},
   "outputs": [],
   "source": [
    "#Function\n",
    "# Def defination \n",
    "\n",
    "def test(x,y):\n",
    "    pass"
   ]
  },
  {
   "cell_type": "code",
   "execution_count": 5,
   "id": "39a86d58",
   "metadata": {},
   "outputs": [],
   "source": [
    "test(23,45)"
   ]
  },
  {
   "cell_type": "code",
   "execution_count": 8,
   "id": "3981bec5",
   "metadata": {},
   "outputs": [
    {
     "name": "stdout",
     "output_type": "stream",
     "text": [
      "a = 4\n",
      "b = 8\n",
      "12\n"
     ]
    }
   ],
   "source": [
    "def add(a,b):\n",
    "    print('a =',a)\n",
    "    print('b =',b)\n",
    "    result = a + b\n",
    "    return(result)\n",
    "x = add(4,8)\n",
    "print(x)"
   ]
  },
  {
   "cell_type": "code",
   "execution_count": 10,
   "id": "40bba441",
   "metadata": {},
   "outputs": [
    {
     "name": "stdout",
     "output_type": "stream",
     "text": [
      "index 10 has value 10\n",
      "index 11 has value 20\n",
      "index 12 has value 30\n",
      "index 13 has value 40\n"
     ]
    }
   ],
   "source": [
    "#Enumerate()\n",
    "# The  enumerate()method adds counter to an iterable and return it\n",
    "# Syntax: enumerate(iterable, start =0)\n",
    "\n",
    "numbers = [10,20,30,40]\n",
    "\n",
    "for index, num in enumerate(numbers,10):\n",
    "    print(\"index {0} has value {1}\".format(index,num))"
   ]
  },
  {
   "cell_type": "code",
   "execution_count": 12,
   "id": "8372b844",
   "metadata": {},
   "outputs": [],
   "source": [
    "def find_positive_number(num):\n",
    "    \"\"\"This is function returns the positive number if num is positive\"\"\"\n",
    "    if num > 0:\n",
    "        return num"
   ]
  },
  {
   "cell_type": "code",
   "execution_count": 14,
   "id": "c4d4845d",
   "metadata": {},
   "outputs": [
    {
     "data": {
      "text/plain": [
       "6.0"
      ]
     },
     "execution_count": 14,
     "metadata": {},
     "output_type": "execute_result"
    }
   ],
   "source": [
    "48/8"
   ]
  },
  {
   "cell_type": "code",
   "execution_count": 18,
   "id": "9eeae620",
   "metadata": {},
   "outputs": [
    {
     "data": {
      "text/plain": [
       "(6.0, 6)"
      ]
     },
     "execution_count": 18,
     "metadata": {},
     "output_type": "execute_result"
    }
   ],
   "source": [
    "48/8,(14-8)"
   ]
  },
  {
   "cell_type": "code",
   "execution_count": 19,
   "id": "d7604975",
   "metadata": {},
   "outputs": [],
   "source": [
    "def get_sum(lst):\n",
    "    \"\"\"this function returns the sum of all the elements in a list\"\"\"\n",
    "    _sum = 0\n",
    "    \n",
    "    for num in lst:\n",
    "        _sum += num\n",
    "    return _sum"
   ]
  },
  {
   "cell_type": "code",
   "execution_count": 22,
   "id": "d9dbf200",
   "metadata": {},
   "outputs": [
    {
     "name": "stdout",
     "output_type": "stream",
     "text": [
      "10\n",
      "<class 'int'>\n"
     ]
    },
    {
     "data": {
      "text/plain": [
       "<function __main__.get_sum(lst)>"
      ]
     },
     "execution_count": 22,
     "metadata": {},
     "output_type": "execute_result"
    }
   ],
   "source": [
    "s = get_sum([1,2,3,4])\n",
    "print(s)\n",
    "print(type(s))\n",
    "\n",
    "get_sum"
   ]
  },
  {
   "cell_type": "code",
   "execution_count": 23,
   "id": "f7f0d30f",
   "metadata": {},
   "outputs": [
    {
     "name": "stdout",
     "output_type": "stream",
     "text": [
      "True\n"
     ]
    }
   ],
   "source": [
    "lst = [1,2,3,4]\n",
    "print(all(lst))"
   ]
  },
  {
   "cell_type": "code",
   "execution_count": 25,
   "id": "44f34699",
   "metadata": {},
   "outputs": [
    {
     "name": "stdout",
     "output_type": "stream",
     "text": [
      "False\n"
     ]
    }
   ],
   "source": [
    "lst = (0,2,3,4) # 0 present in list is false\n",
    "print(all(lst))"
   ]
  },
  {
   "cell_type": "code",
   "execution_count": 26,
   "id": "9f272397",
   "metadata": {},
   "outputs": [
    {
     "name": "stdout",
     "output_type": "stream",
     "text": [
      "['__add__', '__class__', '__contains__', '__delattr__', '__delitem__', '__dir__', '__doc__', '__eq__', '__format__', '__ge__', '__getattribute__', '__getitem__', '__gt__', '__hash__', '__iadd__', '__imul__', '__init__', '__init_subclass__', '__iter__', '__le__', '__len__', '__lt__', '__mul__', '__ne__', '__new__', '__reduce__', '__reduce_ex__', '__repr__', '__reversed__', '__rmul__', '__setattr__', '__setitem__', '__sizeof__', '__str__', '__subclasshook__', 'append', 'clear', 'copy', 'count', 'extend', 'index', 'insert', 'pop', 'remove', 'reverse', 'sort']\n"
     ]
    }
   ],
   "source": [
    "numbers = [1,2,3]\n",
    "\n",
    "print(dir(numbers))"
   ]
  },
  {
   "cell_type": "code",
   "execution_count": 27,
   "id": "7f1047b1",
   "metadata": {},
   "outputs": [
    {
     "name": "stdout",
     "output_type": "stream",
     "text": [
      "(4, 1)\n"
     ]
    }
   ],
   "source": [
    "print(divmod(9,2))"
   ]
  },
  {
   "cell_type": "code",
   "execution_count": 28,
   "id": "20282611",
   "metadata": {},
   "outputs": [
    {
     "name": "stdout",
     "output_type": "stream",
     "text": [
      "index 10 has value 10\n",
      "index 11 has value 20\n",
      "index 12 has value 30\n",
      "index 13 has value 40\n"
     ]
    }
   ],
   "source": [
    "#Enumerate\n",
    "numbers = [10,20,30,40]\n",
    "\n",
    "for index,num in enumerate(numbers,10):\n",
    "    print(\"index {0} has value {1}\".format(index,num))"
   ]
  },
  {
   "cell_type": "code",
   "execution_count": 30,
   "id": "547d865d",
   "metadata": {},
   "outputs": [],
   "source": [
    "def find_positive_number(num):\n",
    "    if num > 0:\n",
    "        return num"
   ]
  },
  {
   "cell_type": "code",
   "execution_count": 3,
   "id": "de703997",
   "metadata": {},
   "outputs": [
    {
     "name": "stdout",
     "output_type": "stream",
     "text": [
      "[-10, -9, -8, -7, -6, -5, -4, -3, -2, -1, 0, 1, 2, 3, 4, 5, 6, 7, 8, 9]\n"
     ]
    },
    {
     "ename": "NameError",
     "evalue": "name 'find_postive_number' is not defined",
     "output_type": "error",
     "traceback": [
      "\u001b[1;31m---------------------------------------------------------------------------\u001b[0m",
      "\u001b[1;31mNameError\u001b[0m                                 Traceback (most recent call last)",
      "\u001b[1;32mC:\\Users\\ADMINI~1\\AppData\\Local\\Temp/ipykernel_9148/2912743650.py\u001b[0m in \u001b[0;36m<module>\u001b[1;34m\u001b[0m\n\u001b[0;32m      2\u001b[0m \u001b[0mprint\u001b[0m\u001b[1;33m(\u001b[0m\u001b[0mlist\u001b[0m\u001b[1;33m(\u001b[0m\u001b[0mnumber_list\u001b[0m\u001b[1;33m)\u001b[0m\u001b[1;33m)\u001b[0m\u001b[1;33m\u001b[0m\u001b[1;33m\u001b[0m\u001b[0m\n\u001b[0;32m      3\u001b[0m \u001b[1;33m\u001b[0m\u001b[0m\n\u001b[1;32m----> 4\u001b[1;33m \u001b[0mpositive_num_lst\u001b[0m\u001b[1;33m=\u001b[0m \u001b[0mlist\u001b[0m\u001b[1;33m(\u001b[0m\u001b[0mfilter\u001b[0m\u001b[1;33m(\u001b[0m\u001b[0mfind_postive_number\u001b[0m\u001b[1;33m,\u001b[0m \u001b[0mnumber_list\u001b[0m\u001b[1;33m)\u001b[0m\u001b[1;33m)\u001b[0m\u001b[1;33m\u001b[0m\u001b[1;33m\u001b[0m\u001b[0m\n\u001b[0m\u001b[0;32m      5\u001b[0m \u001b[1;33m\u001b[0m\u001b[0m\n\u001b[0;32m      6\u001b[0m \u001b[0mprint\u001b[0m\u001b[1;33m(\u001b[0m\u001b[0mpositive_num_lst\u001b[0m\u001b[1;33m)\u001b[0m\u001b[1;33m\u001b[0m\u001b[1;33m\u001b[0m\u001b[0m\n",
      "\u001b[1;31mNameError\u001b[0m: name 'find_postive_number' is not defined"
     ]
    }
   ],
   "source": [
    "number_list = range(-10,10)\n",
    "print(list(number_list))\n",
    "\n",
    "positive_num_lst= list(filter(find_postive_number, number_list))\n",
    "\n",
    "print(positive_num_lst)"
   ]
  },
  {
   "cell_type": "code",
   "execution_count": 5,
   "id": "51258d79",
   "metadata": {},
   "outputs": [
    {
     "name": "stdout",
     "output_type": "stream",
     "text": [
      "True\n",
      "False\n"
     ]
    }
   ],
   "source": [
    "#Isinstance \n",
    "lst = [1,2,3,4]\n",
    "print(isinstance(lst,list))\n",
    "\n",
    "t = (1,2,3,4)\n",
    "print(isinstance(t,list))"
   ]
  },
  {
   "cell_type": "code",
   "execution_count": 6,
   "id": "6f96b184",
   "metadata": {},
   "outputs": [
    {
     "name": "stdout",
     "output_type": "stream",
     "text": [
      "[1, 4, 9, 16]\n"
     ]
    }
   ],
   "source": [
    "numbers = [1,2,3,4]\n",
    "\n",
    "squared = []\n",
    "for num in numbers:\n",
    "    squared.append(num ** 2)\n",
    "print(squared)"
   ]
  },
  {
   "cell_type": "code",
   "execution_count": 7,
   "id": "464d0dde",
   "metadata": {},
   "outputs": [
    {
     "name": "stdout",
     "output_type": "stream",
     "text": [
      "[1, 4, 9, 16]\n"
     ]
    }
   ],
   "source": [
    "numbers = [1,2,3,4]\n",
    "\n",
    "def poweroftwo(num):\n",
    "    return num **2\n",
    "\n",
    "#Using map() function\n",
    "squared=list(map(poweroftwo, numbers))\n",
    "\n",
    "print(squared) "
   ]
  },
  {
   "cell_type": "code",
   "execution_count": 8,
   "id": "4e0638a0",
   "metadata": {},
   "outputs": [
    {
     "name": "stdout",
     "output_type": "stream",
     "text": [
      "24\n"
     ]
    }
   ],
   "source": [
    "#Reduce function\n",
    "product = 1\n",
    "lst = [1,2,3,4]\n",
    "\n",
    "for num in lst:\n",
    "    product *= num\n",
    "print(product)"
   ]
  },
  {
   "cell_type": "code",
   "execution_count": 12,
   "id": "33a1c5a8",
   "metadata": {},
   "outputs": [
    {
     "name": "stdout",
     "output_type": "stream",
     "text": [
      "24\n"
     ]
    }
   ],
   "source": [
    "from functools import reduce\n",
    "\n",
    "def multiply(x,y):\n",
    "    return x*y;\n",
    "\n",
    "product = reduce(multiply,lst)\n",
    "print(product)"
   ]
  },
  {
   "cell_type": "code",
   "execution_count": 13,
   "id": "854a1259",
   "metadata": {},
   "outputs": [
    {
     "data": {
      "text/plain": [
       "23"
      ]
     },
     "execution_count": 13,
     "metadata": {},
     "output_type": "execute_result"
    }
   ],
   "source": [
    "bacon = 22\n",
    "bacon +1"
   ]
  },
  {
   "cell_type": "code",
   "execution_count": 15,
   "id": "50f0499c",
   "metadata": {},
   "outputs": [
    {
     "data": {
      "text/plain": [
       "'spamspamspam'"
      ]
     },
     "execution_count": 15,
     "metadata": {},
     "output_type": "execute_result"
    }
   ],
   "source": [
    "'spam' + 'spamspam'"
   ]
  },
  {
   "cell_type": "code",
   "execution_count": 16,
   "id": "5c398928",
   "metadata": {},
   "outputs": [
    {
     "data": {
      "text/plain": [
       "'spamspamspam'"
      ]
     },
     "execution_count": 16,
     "metadata": {},
     "output_type": "execute_result"
    }
   ],
   "source": [
    "'spam'*3"
   ]
  }
 ],
 "metadata": {
  "kernelspec": {
   "display_name": "Python 3 (ipykernel)",
   "language": "python",
   "name": "python3"
  },
  "language_info": {
   "codemirror_mode": {
    "name": "ipython",
    "version": 3
   },
   "file_extension": ".py",
   "mimetype": "text/x-python",
   "name": "python",
   "nbconvert_exporter": "python",
   "pygments_lexer": "ipython3",
   "version": "3.8.12"
  }
 },
 "nbformat": 4,
 "nbformat_minor": 5
}
