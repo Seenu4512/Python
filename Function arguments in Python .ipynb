{
 "cells": [
  {
   "cell_type": "markdown",
   "id": "362820ba",
   "metadata": {},
   "source": [
    "# Functions Arguments"
   ]
  },
  {
   "cell_type": "code",
   "execution_count": 8,
   "id": "e132d255",
   "metadata": {},
   "outputs": [
    {
     "name": "stdout",
     "output_type": "stream",
     "text": [
      "Hello satish , Good Morning\n"
     ]
    }
   ],
   "source": [
    "def greet(name, msg):\n",
    "    \"\"\"\n",
    "    This function greets to person with the provided message\n",
    "    \"\"\"\n",
    "    print(\"Hello {0} , {1}\".format(name,msg))\n",
    "#call the function with arguments\n",
    "greet(\"satish\",\"Good Morning\")"
   ]
  },
  {
   "cell_type": "code",
   "execution_count": 9,
   "id": "418425ed",
   "metadata": {},
   "outputs": [
    {
     "ename": "TypeError",
     "evalue": "greet() missing 1 required positional argument: 'msg'",
     "output_type": "error",
     "traceback": [
      "\u001b[1;31m---------------------------------------------------------------------------\u001b[0m",
      "\u001b[1;31mTypeError\u001b[0m                                 Traceback (most recent call last)",
      "\u001b[1;32mC:\\Users\\ADMINI~1\\AppData\\Local\\Temp/ipykernel_8408/3642474924.py\u001b[0m in \u001b[0;36m<module>\u001b[1;34m\u001b[0m\n\u001b[0;32m      1\u001b[0m \u001b[1;31m#suppose if we pass one argument\u001b[0m\u001b[1;33m\u001b[0m\u001b[1;33m\u001b[0m\u001b[1;33m\u001b[0m\u001b[0m\n\u001b[0;32m      2\u001b[0m \u001b[1;33m\u001b[0m\u001b[0m\n\u001b[1;32m----> 3\u001b[1;33m \u001b[0mgreet\u001b[0m\u001b[1;33m(\u001b[0m\u001b[1;34m\"Satish\"\u001b[0m\u001b[1;33m)\u001b[0m \u001b[1;31m#will get an error\u001b[0m\u001b[1;33m\u001b[0m\u001b[1;33m\u001b[0m\u001b[0m\n\u001b[0m",
      "\u001b[1;31mTypeError\u001b[0m: greet() missing 1 required positional argument: 'msg'"
     ]
    }
   ],
   "source": [
    "#suppose if we pass one argument\n",
    "\n",
    "greet(\"Satish\") #will get an error"
   ]
  },
  {
   "cell_type": "markdown",
   "id": "d40fb97c",
   "metadata": {},
   "source": [
    "# Different Forms of Arguments"
   ]
  },
  {
   "cell_type": "markdown",
   "id": "a40ceb8d",
   "metadata": {},
   "source": [
    "# 1.Default Arguments"
   ]
  },
  {
   "cell_type": "markdown",
   "id": "a8125c75",
   "metadata": {},
   "source": [
    "We can provide a default value to an argument by using the assignment operator(=)."
   ]
  },
  {
   "cell_type": "code",
   "execution_count": 10,
   "id": "fa9ea09b",
   "metadata": {},
   "outputs": [
    {
     "name": "stdout",
     "output_type": "stream",
     "text": [
      "Hello Satish , Good Night\n"
     ]
    }
   ],
   "source": [
    "def greet(name, msg = \"Good Morning\"):\n",
    "    \"\"\"\n",
    "    This function greets to person with the provided message\n",
    "    if message is not provided, it defaults to \"Good Morning\"\n",
    "    \"\"\"\n",
    "    print(\"Hello {0} , {1}\".format(name,msg))\n",
    "    \n",
    "greet(\"Satish\" , \"Good Night\")"
   ]
  },
  {
   "cell_type": "code",
   "execution_count": 11,
   "id": "d0876dce",
   "metadata": {},
   "outputs": [
    {
     "name": "stdout",
     "output_type": "stream",
     "text": [
      "Hello satish , Good Morning\n"
     ]
    }
   ],
   "source": [
    "#with out msg argument\n",
    "greet (\"satish\")"
   ]
  },
  {
   "cell_type": "markdown",
   "id": "70de4068",
   "metadata": {},
   "source": [
    "once we have a default argument, all the arguments to its right must also have default values.\n",
    "\n",
    "def greet(msg= \"Good Morning\",name)\n",
    "\n",
    "#will get a SyntaxError : non-default argument follows default argument"
   ]
  },
  {
   "cell_type": "markdown",
   "id": "b3b3f9a4",
   "metadata": {},
   "source": [
    "# Keyword Arguments "
   ]
  },
  {
   "cell_type": "markdown",
   "id": "db9d6b6f",
   "metadata": {},
   "source": [
    "kwargs allows you to pass keyworded variable length of arguments to a function. You should use **kwargs if you want to handle named arguments in a function."
   ]
  },
  {
   "cell_type": "code",
   "execution_count": 14,
   "id": "326a5dad",
   "metadata": {},
   "outputs": [
    {
     "name": "stdout",
     "output_type": "stream",
     "text": [
      "Hello satish , Good Morning\n"
     ]
    }
   ],
   "source": [
    "def greet(**kwargs):\n",
    "    \"\"\"\n",
    "    This function greets to person with the provied message\n",
    "    \"\"\"\n",
    "    if kwargs:\n",
    "        print(\"Hello {0} , {1}\".format(kwargs['name'], kwargs['msg']))\n",
    "greet(name=\"satish\", msg=\"Good Morning\")"
   ]
  },
  {
   "cell_type": "markdown",
   "id": "704d5a6b",
   "metadata": {},
   "source": [
    "# Arbitary Arguments"
   ]
  },
  {
   "cell_type": "markdown",
   "id": "1e09bb89",
   "metadata": {},
   "source": [
    "Sometimes, we do not know in advance the number of arguments that will be passed into a function. Python allows us to handle this kind of situtation through function calls with arbitrary number of arguments."
   ]
  },
  {
   "cell_type": "markdown",
   "id": "ef178a64",
   "metadata": {},
   "source": [
    "# Example :"
   ]
  },
  {
   "cell_type": "code",
   "execution_count": 18,
   "id": "193ab88a",
   "metadata": {},
   "outputs": [
    {
     "name": "stdout",
     "output_type": "stream",
     "text": [
      "('Satish', 'murali', 'naveen', 'srikanth')\n",
      "Hello, Satish\n",
      "Hello, murali\n",
      "Hello, naveen\n",
      "Hello, srikanth\n"
     ]
    }
   ],
   "source": [
    "def greet(*names):\n",
    "    \"\"\"\n",
    "    This function greets all persons in the names tuple\n",
    "    \"\"\"\n",
    "    print(names)\n",
    "    \n",
    "    for name in names:\n",
    "        print(\"Hello, {0}\".format(name))\n",
    "greet(\"Satish\", \"murali\",'naveen','srikanth')"
   ]
  }
 ],
 "metadata": {
  "kernelspec": {
   "display_name": "Python 3 (ipykernel)",
   "language": "python",
   "name": "python3"
  },
  "language_info": {
   "codemirror_mode": {
    "name": "ipython",
    "version": 3
   },
   "file_extension": ".py",
   "mimetype": "text/x-python",
   "name": "python",
   "nbconvert_exporter": "python",
   "pygments_lexer": "ipython3",
   "version": "3.8.12"
  }
 },
 "nbformat": 4,
 "nbformat_minor": 5
}
