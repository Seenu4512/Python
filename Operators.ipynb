{
 "cells": [
  {
   "cell_type": "markdown",
   "id": "1511ed05",
   "metadata": {},
   "source": [
    "# Operators"
   ]
  },
  {
   "cell_type": "markdown",
   "id": "193b7cd6",
   "metadata": {},
   "source": [
    "Operators are special symbols in Python that carry out arithmetic or logical computation. The value that the operator operates on is called that operand."
   ]
  },
  {
   "cell_type": "markdown",
   "id": "a3aa5b72",
   "metadata": {},
   "source": [
    "# Operator Types"
   ]
  },
  {
   "cell_type": "markdown",
   "id": "30c3ed4c",
   "metadata": {},
   "source": [
    "1. Arithmetic Operators\n",
    "2. Comparison(Relational) Operators\n",
    "3. Logical(Boolean) Operators\n",
    "4. Bitwise Operators\n",
    "5. Assignment Operators\n",
    "6. Special Operators"
   ]
  },
  {
   "cell_type": "markdown",
   "id": "afb3a580",
   "metadata": {},
   "source": [
    "# Arithmetic Operators\n",
    "\n",
    "Arithmetic operators are used to perform mathematical operations like addition,subtraction, multiplication, divison etc.\n",
    "\n",
    "\n",
    "    + , - , * , /, %, //, **  are arithmetic operators"
   ]
  },
  {
   "cell_type": "markdown",
   "id": "a830c76c",
   "metadata": {},
   "source": [
    "# Example:"
   ]
  },
  {
   "cell_type": "code",
   "execution_count": 1,
   "id": "a975b99f",
   "metadata": {},
   "outputs": [
    {
     "name": "stdout",
     "output_type": "stream",
     "text": [
      "30\n"
     ]
    }
   ],
   "source": [
    "x , y = 10, 20\n",
    "\n",
    "#addition\n",
    "print(x + y)\n",
    "\n",
    "#subtraction (-)\n",
    "\n",
    "#Multiplication (*)\n",
    "\n",
    "#Division (/)\n",
    "\n",
    "#Modulo division (%)\n",
    "\n",
    "#Floor Division (//)\n",
    "\n",
    "#Exponent(**)"
   ]
  },
  {
   "cell_type": "markdown",
   "id": "2bdf6127",
   "metadata": {},
   "source": [
    "# Comparision Operators\n",
    "\n",
    "Comparision operators are used to compare values. It either returns True or False according to the condition.\n",
    "\n",
    "        >, <, ==, !=,>=, <= are comparision operators"
   ]
  },
  {
   "cell_type": "markdown",
   "id": "563aa101",
   "metadata": {},
   "source": [
    "a , b = 10, 20\n",
    "\n",
    "print(a < b)  #check a is less than b\n",
    "\n",
    "print(a > b)   #check a is greater than b\n",
    "\n",
    "print(a == b)   #check a is equal to b \n",
    "\n",
    "print(a != b)   #check a is not equal to b (!=)\n",
    "\n",
    "print(a >= b)  #check a greater than or equal to b\n",
    "\n",
    "print(a <= b)   #check a less than or equal to b"
   ]
  },
  {
   "cell_type": "markdown",
   "id": "6a49eb21",
   "metadata": {},
   "source": [
    "# Logical Operators"
   ]
  },
  {
   "cell_type": "markdown",
   "id": "c52a22d5",
   "metadata": {},
   "source": [
    "Logical Operators are and, or not operators."
   ]
  },
  {
   "cell_type": "code",
   "execution_count": 7,
   "id": "e89364e9",
   "metadata": {},
   "outputs": [
    {
     "name": "stdout",
     "output_type": "stream",
     "text": [
      "False\n",
      "True\n",
      "True\n"
     ]
    }
   ],
   "source": [
    "a , b = True, False \n",
    "\n",
    "#print a and b\n",
    "print(a and b) # &&\n",
    "\n",
    "#print a or b  # ||\n",
    "print(a or b)\n",
    "\n",
    "#print a not b  # !\n",
    "print( not b)"
   ]
  },
  {
   "cell_type": "markdown",
   "id": "c5889f65",
   "metadata": {},
   "source": [
    "# Bitwise Operators\n",
    "\n",
    "Bitwise operators act on operands as if they were string of binary digits. It operates bit by bit.\n",
    "\n",
    "        &, |, ~, ^, >>, << are Bitwise operators"
   ]
  },
  {
   "cell_type": "code",
   "execution_count": 11,
   "id": "ab3ecbec",
   "metadata": {},
   "outputs": [
    {
     "name": "stdout",
     "output_type": "stream",
     "text": [
      "0\n",
      "14\n"
     ]
    }
   ],
   "source": [
    "a, b = 10, 4\n",
    "\n",
    "#Bitwise AND\n",
    "print(a & b)\n",
    "\n",
    "#Bitwise OR\n",
    "print(a | b)\n",
    "\n",
    "#Bitwise NOT\n",
    "\n",
    "#Bitwise XOR\n",
    "\n",
    "#Bitwise rightshift\n",
    "\n",
    "#Bitwise leftshift\n"
   ]
  },
  {
   "cell_type": "markdown",
   "id": "62e2bbc6",
   "metadata": {},
   "source": [
    "# Assignment Operators\n",
    "\n",
    "Assignment operators are used in Python to assign values to variables.\n",
    "\n",
    "a = 5 is a simple assignment operator that assigns the value 5 on the right to the variable a on the left.\n",
    "\n",
    "       =, +=, -=, *=, /=, %=, //=, **=, &=, |=, ^=, >>=, <<= are assignment operators"
   ]
  },
  {
   "cell_type": "code",
   "execution_count": 20,
   "id": "4286843f",
   "metadata": {},
   "outputs": [
    {
     "name": "stdout",
     "output_type": "stream",
     "text": [
      "20\n",
      "10\n",
      "100\n",
      "10.0\n",
      "0.0\n",
      "0.0\n",
      "0.0\n"
     ]
    }
   ],
   "source": [
    "a = 10\n",
    "\n",
    "a += 10         #add AND\n",
    "print(a)\n",
    "\n",
    "#Subtract AND (-=)\n",
    "a -= 10\n",
    "print(a)\n",
    "\n",
    "#Multiply AND (*=)\n",
    "a *= 10\n",
    "print(a)\n",
    "\n",
    "#Divide AND (/=)\n",
    "a /= 10\n",
    "print(a)\n",
    "\n",
    "#Modulus AND (%=)\n",
    "a %= 10\n",
    "print(a)\n",
    "\n",
    "#Floor Division (//=)\n",
    "a //= 10\n",
    "print(a)\n",
    "\n",
    "#Exponent AND (**=)\n",
    "a **= 10\n",
    "print(a)"
   ]
  },
  {
   "cell_type": "markdown",
   "id": "9c1b6da1",
   "metadata": {},
   "source": [
    "# Special Operators\n",
    "\n",
    "\n",
    "# Identity Operators\n",
    "\n",
    "is and is not are the identity operators in Python.\n",
    "\n",
    "They are used to check if two values (or variables) are located on the same part of the memory."
   ]
  },
  {
   "cell_type": "code",
   "execution_count": 21,
   "id": "163ffe9f",
   "metadata": {},
   "outputs": [
    {
     "name": "stdout",
     "output_type": "stream",
     "text": [
      "True\n"
     ]
    }
   ],
   "source": [
    "a = 5\n",
    "b = 5\n",
    "\n",
    "print(a is b) # 5 is object created once both a and b points to same object"
   ]
  },
  {
   "cell_type": "code",
   "execution_count": 22,
   "id": "3239a4bf",
   "metadata": {},
   "outputs": [
    {
     "name": "stdout",
     "output_type": "stream",
     "text": [
      "False\n"
     ]
    }
   ],
   "source": [
    "l1 = [1,2,3]\n",
    "l2 = [1,2,3]\n",
    "print(l1 is l2)"
   ]
  },
  {
   "cell_type": "code",
   "execution_count": 23,
   "id": "b7d03143",
   "metadata": {},
   "outputs": [
    {
     "name": "stdout",
     "output_type": "stream",
     "text": [
      "False\n"
     ]
    }
   ],
   "source": [
    "s1 = \"AAIC\"\n",
    "s2 = \"AAIC\"\n",
    "print(s1 is not s2)"
   ]
  },
  {
   "cell_type": "markdown",
   "id": "aeec7534",
   "metadata": {},
   "source": [
    "# Membership Operators\n",
    "\n",
    "in and not in are the membership operators in Python.\n",
    "\n",
    "They are used to test whether a value or variable is found in a sequence(String, list, tuple, set and dictionary)."
   ]
  },
  {
   "cell_type": "code",
   "execution_count": 24,
   "id": "58094127",
   "metadata": {},
   "outputs": [
    {
     "name": "stdout",
     "output_type": "stream",
     "text": [
      "True\n"
     ]
    }
   ],
   "source": [
    "lst = [1,2,3,4]\n",
    "print(1 in lst) #check 1 is present in a given list or not\n",
    "\n",
    "#check 5 is present in a given list"
   ]
  },
  {
   "cell_type": "code",
   "execution_count": 25,
   "id": "9015ab01",
   "metadata": {},
   "outputs": [
    {
     "name": "stdout",
     "output_type": "stream",
     "text": [
      "True\n"
     ]
    }
   ],
   "source": [
    "d = {1: \"a\", 2: \"b\"}    #this is a dictionary\n",
    "print(1 in d)"
   ]
  }
 ],
 "metadata": {
  "kernelspec": {
   "display_name": "Python 3 (ipykernel)",
   "language": "python",
   "name": "python3"
  },
  "language_info": {
   "codemirror_mode": {
    "name": "ipython",
    "version": 3
   },
   "file_extension": ".py",
   "mimetype": "text/x-python",
   "name": "python",
   "nbconvert_exporter": "python",
   "pygments_lexer": "ipython3",
   "version": "3.8.12"
  }
 },
 "nbformat": 4,
 "nbformat_minor": 5
}
