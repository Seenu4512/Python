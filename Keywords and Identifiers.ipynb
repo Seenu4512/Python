{
 "cells": [
  {
   "cell_type": "markdown",
   "id": "0b4ec2eb",
   "metadata": {},
   "source": [
    "# Why Python ?\n",
    "Very simple language to learn\n",
    "Best packages for AI- Matplotlib\n",
    "Numpy , Pandas,Scipy,Scikit-learn,Tensorflow\n",
    "iPython Notebooks for interactive data analysis & modelling\n",
    "Extensively used in the industry\n",
    "emphasizes readability and makes coding very easy\n",
    "Python is easy to read, write, and learn"
   ]
  },
  {
   "cell_type": "markdown",
   "id": "9501012b",
   "metadata": {},
   "source": [
    "# Python Keywords\n",
    "Keywords are the reserved words in python.\n",
    "We can't use a keyword as veriable name, function name or any other identifier\n",
    "Keyword are case sentive"
   ]
  },
  {
   "cell_type": "code",
   "execution_count": 2,
   "id": "77b8d2dd",
   "metadata": {},
   "outputs": [
    {
     "name": "stdout",
     "output_type": "stream",
     "text": [
      "['False', 'None', 'True', 'and', 'as', 'assert', 'async', 'await', 'break', 'class', 'continue', 'def', 'del', 'elif', 'else', 'except', 'finally', 'for', 'from', 'global', 'if', 'import', 'in', 'is', 'lambda', 'nonlocal', 'not', 'or', 'pass', 'raise', 'return', 'try', 'while', 'with', 'yield']\n",
      " Total number of keywords  35\n"
     ]
    }
   ],
   "source": [
    "#Get all keywords in python 3.6\n",
    "\n",
    "import keyword\n",
    "\n",
    "print(keyword.kwlist)\n",
    "\n",
    "print(\" Total number of keywords \",len(keyword.kwlist))"
   ]
  },
  {
   "cell_type": "markdown",
   "id": "f2c2af05",
   "metadata": {},
   "source": [
    "# Identifiers\n",
    "Identifier is the name given to entities like class, functions, variables etc. in python. it helps differentiating one entity from another.\n",
    "\n",
    "Rules for writing identifiers:\n",
    "Identifiers can be a combination of letters in lowercase (a to z) or uppercase(A to Z) or digits (0 to 9)or an underscore(_).\n",
    "An identifier cannot start with a digit. 1variable is invaild, but variable1 is perfectly fine.\n",
    "Keywords cannot be used as identifiers."
   ]
  },
  {
   "cell_type": "code",
   "execution_count": 7,
   "id": "2fbeadc4",
   "metadata": {},
   "outputs": [
    {
     "ename": "SyntaxError",
     "evalue": "invalid syntax (Temp/ipykernel_21900/2517827460.py, line 2)",
     "output_type": "error",
     "traceback": [
      "\u001b[1;36m  File \u001b[1;32m\"C:\\Users\\ADMINI~1\\AppData\\Local\\Temp/ipykernel_21900/2517827460.py\"\u001b[1;36m, line \u001b[1;32m2\u001b[0m\n\u001b[1;33m    global@ = 1\u001b[0m\n\u001b[1;37m          ^\u001b[0m\n\u001b[1;31mSyntaxError\u001b[0m\u001b[1;31m:\u001b[0m invalid syntax\n"
     ]
    }
   ],
   "source": [
    "a_12_bc = 12;\n",
    "global = 1"
   ]
  },
  {
   "cell_type": "markdown",
   "id": "7e8a8193",
   "metadata": {},
   "source": [
    "We cannot use special symbols like !,@,#,$,% etc, in our identifier."
   ]
  },
  {
   "cell_type": "code",
   "execution_count": null,
   "id": "dc47bcf0",
   "metadata": {},
   "outputs": [],
   "source": [
    "a"
   ]
  }
 ],
 "metadata": {
  "kernelspec": {
   "display_name": "Python 3 (ipykernel)",
   "language": "python",
   "name": "python3"
  },
  "language_info": {
   "codemirror_mode": {
    "name": "ipython",
    "version": 3
   },
   "file_extension": ".py",
   "mimetype": "text/x-python",
   "name": "python",
   "nbconvert_exporter": "python",
   "pygments_lexer": "ipython3",
   "version": "3.8.12"
  }
 },
 "nbformat": 4,
 "nbformat_minor": 5
}
